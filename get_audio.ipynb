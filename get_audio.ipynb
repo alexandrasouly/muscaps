{
 "cells": [
  {
   "cell_type": "code",
   "execution_count": 6,
   "metadata": {},
   "outputs": [
    {
     "ename": "KeyboardInterrupt",
     "evalue": "",
     "output_type": "error",
     "traceback": [
      "\u001b[0;31m---------------------------------------------------------------------------\u001b[0m",
      "\u001b[0;31mKeyboardInterrupt\u001b[0m                         Traceback (most recent call last)",
      "Cell \u001b[0;32mIn[6], line 8\u001b[0m\n\u001b[1;32m      6\u001b[0m \u001b[39mfor\u001b[39;00m audio_file \u001b[39min\u001b[39;00m os\u001b[39m.\u001b[39mlistdir(audio_dir):\n\u001b[1;32m      7\u001b[0m     audio_path \u001b[39m=\u001b[39m os\u001b[39m.\u001b[39mpath\u001b[39m.\u001b[39mjoin(audio_dir, audio_file)\n\u001b[0;32m----> 8\u001b[0m     audio, sr \u001b[39m=\u001b[39m librosa\u001b[39m.\u001b[39;49mload(audio_path, \u001b[39m16000\u001b[39m)\n\u001b[1;32m      9\u001b[0m     array_path \u001b[39m=\u001b[39m audio_path\u001b[39m.\u001b[39mreplace(\u001b[39m\"\u001b[39m\u001b[39mwav\u001b[39m\u001b[39m\"\u001b[39m, \u001b[39m\"\u001b[39m\u001b[39mnpy\u001b[39m\u001b[39m\"\u001b[39m)\n\u001b[1;32m     10\u001b[0m     np\u001b[39m.\u001b[39msave(\u001b[39mopen\u001b[39m(array_path, \u001b[39m'\u001b[39m\u001b[39mwb\u001b[39m\u001b[39m'\u001b[39m), audio)\n",
      "File \u001b[0;32m~/miniconda3/envs/muscaps/lib/python3.8/site-packages/lazy_loader/__init__.py:77\u001b[0m, in \u001b[0;36mattach.<locals>.__getattr__\u001b[0;34m(name)\u001b[0m\n\u001b[1;32m     75\u001b[0m submod_path \u001b[39m=\u001b[39m \u001b[39mf\u001b[39m\u001b[39m\"\u001b[39m\u001b[39m{\u001b[39;00mpackage_name\u001b[39m}\u001b[39;00m\u001b[39m.\u001b[39m\u001b[39m{\u001b[39;00mattr_to_modules[name]\u001b[39m}\u001b[39;00m\u001b[39m\"\u001b[39m\n\u001b[1;32m     76\u001b[0m submod \u001b[39m=\u001b[39m importlib\u001b[39m.\u001b[39mimport_module(submod_path)\n\u001b[0;32m---> 77\u001b[0m attr \u001b[39m=\u001b[39m \u001b[39mgetattr\u001b[39;49m(submod, name)\n\u001b[1;32m     79\u001b[0m \u001b[39m# If the attribute lives in a file (module) with the same\u001b[39;00m\n\u001b[1;32m     80\u001b[0m \u001b[39m# name as the attribute, ensure that the attribute and *not*\u001b[39;00m\n\u001b[1;32m     81\u001b[0m \u001b[39m# the module is accessible on the package.\u001b[39;00m\n\u001b[1;32m     82\u001b[0m \u001b[39mif\u001b[39;00m name \u001b[39m==\u001b[39m attr_to_modules[name]:\n",
      "File \u001b[0;32m~/miniconda3/envs/muscaps/lib/python3.8/site-packages/lazy_loader/__init__.py:76\u001b[0m, in \u001b[0;36mattach.<locals>.__getattr__\u001b[0;34m(name)\u001b[0m\n\u001b[1;32m     74\u001b[0m \u001b[39melif\u001b[39;00m name \u001b[39min\u001b[39;00m attr_to_modules:\n\u001b[1;32m     75\u001b[0m     submod_path \u001b[39m=\u001b[39m \u001b[39mf\u001b[39m\u001b[39m\"\u001b[39m\u001b[39m{\u001b[39;00mpackage_name\u001b[39m}\u001b[39;00m\u001b[39m.\u001b[39m\u001b[39m{\u001b[39;00mattr_to_modules[name]\u001b[39m}\u001b[39;00m\u001b[39m\"\u001b[39m\n\u001b[0;32m---> 76\u001b[0m     submod \u001b[39m=\u001b[39m importlib\u001b[39m.\u001b[39;49mimport_module(submod_path)\n\u001b[1;32m     77\u001b[0m     attr \u001b[39m=\u001b[39m \u001b[39mgetattr\u001b[39m(submod, name)\n\u001b[1;32m     79\u001b[0m     \u001b[39m# If the attribute lives in a file (module) with the same\u001b[39;00m\n\u001b[1;32m     80\u001b[0m     \u001b[39m# name as the attribute, ensure that the attribute and *not*\u001b[39;00m\n\u001b[1;32m     81\u001b[0m     \u001b[39m# the module is accessible on the package.\u001b[39;00m\n",
      "File \u001b[0;32m~/miniconda3/envs/muscaps/lib/python3.8/importlib/__init__.py:127\u001b[0m, in \u001b[0;36mimport_module\u001b[0;34m(name, package)\u001b[0m\n\u001b[1;32m    125\u001b[0m             \u001b[39mbreak\u001b[39;00m\n\u001b[1;32m    126\u001b[0m         level \u001b[39m+\u001b[39m\u001b[39m=\u001b[39m \u001b[39m1\u001b[39m\n\u001b[0;32m--> 127\u001b[0m \u001b[39mreturn\u001b[39;00m _bootstrap\u001b[39m.\u001b[39;49m_gcd_import(name[level:], package, level)\n",
      "File \u001b[0;32m<frozen importlib._bootstrap>:1014\u001b[0m, in \u001b[0;36m_gcd_import\u001b[0;34m(name, package, level)\u001b[0m\n",
      "File \u001b[0;32m<frozen importlib._bootstrap>:991\u001b[0m, in \u001b[0;36m_find_and_load\u001b[0;34m(name, import_)\u001b[0m\n",
      "File \u001b[0;32m<frozen importlib._bootstrap>:975\u001b[0m, in \u001b[0;36m_find_and_load_unlocked\u001b[0;34m(name, import_)\u001b[0m\n",
      "File \u001b[0;32m<frozen importlib._bootstrap>:671\u001b[0m, in \u001b[0;36m_load_unlocked\u001b[0;34m(spec)\u001b[0m\n",
      "File \u001b[0;32m<frozen importlib._bootstrap_external>:843\u001b[0m, in \u001b[0;36mexec_module\u001b[0;34m(self, module)\u001b[0m\n",
      "File \u001b[0;32m<frozen importlib._bootstrap>:219\u001b[0m, in \u001b[0;36m_call_with_frames_removed\u001b[0;34m(f, *args, **kwds)\u001b[0m\n",
      "File \u001b[0;32m~/miniconda3/envs/muscaps/lib/python3.8/site-packages/librosa/core/audio.py:13\u001b[0m\n\u001b[1;32m     11\u001b[0m \u001b[39mimport\u001b[39;00m \u001b[39maudioread\u001b[39;00m\n\u001b[1;32m     12\u001b[0m \u001b[39mimport\u001b[39;00m \u001b[39mnumpy\u001b[39;00m \u001b[39mas\u001b[39;00m \u001b[39mnp\u001b[39;00m\n\u001b[0;32m---> 13\u001b[0m \u001b[39mimport\u001b[39;00m \u001b[39mscipy\u001b[39;00m\u001b[39m.\u001b[39;00m\u001b[39msignal\u001b[39;00m\n\u001b[1;32m     14\u001b[0m \u001b[39mimport\u001b[39;00m \u001b[39msoxr\u001b[39;00m\n\u001b[1;32m     15\u001b[0m \u001b[39mimport\u001b[39;00m \u001b[39mlazy_loader\u001b[39;00m \u001b[39mas\u001b[39;00m \u001b[39mlazy\u001b[39;00m\n",
      "File \u001b[0;32m~/miniconda3/envs/muscaps/lib/python3.8/site-packages/scipy/signal/__init__.py:323\u001b[0m\n\u001b[1;32m    314\u001b[0m \u001b[39mfrom\u001b[39;00m \u001b[39m.\u001b[39;00m\u001b[39m_spline\u001b[39;00m \u001b[39mimport\u001b[39;00m (  \u001b[39m# noqa: F401\u001b[39;00m\n\u001b[1;32m    315\u001b[0m     cspline2d,\n\u001b[1;32m    316\u001b[0m     qspline2d,\n\u001b[0;32m   (...)\u001b[0m\n\u001b[1;32m    319\u001b[0m     symiirorder2,\n\u001b[1;32m    320\u001b[0m )\n\u001b[1;32m    322\u001b[0m \u001b[39mfrom\u001b[39;00m \u001b[39m.\u001b[39;00m\u001b[39m_bsplines\u001b[39;00m \u001b[39mimport\u001b[39;00m \u001b[39m*\u001b[39m\n\u001b[0;32m--> 323\u001b[0m \u001b[39mfrom\u001b[39;00m \u001b[39m.\u001b[39;00m\u001b[39m_filter_design\u001b[39;00m \u001b[39mimport\u001b[39;00m \u001b[39m*\u001b[39m\n\u001b[1;32m    324\u001b[0m \u001b[39mfrom\u001b[39;00m \u001b[39m.\u001b[39;00m\u001b[39m_fir_filter_design\u001b[39;00m \u001b[39mimport\u001b[39;00m \u001b[39m*\u001b[39m\n\u001b[1;32m    325\u001b[0m \u001b[39mfrom\u001b[39;00m \u001b[39m.\u001b[39;00m\u001b[39m_ltisys\u001b[39;00m \u001b[39mimport\u001b[39;00m \u001b[39m*\u001b[39m\n",
      "File \u001b[0;32m~/miniconda3/envs/muscaps/lib/python3.8/site-packages/scipy/signal/_filter_design.py:16\u001b[0m\n\u001b[1;32m     13\u001b[0m \u001b[39mfrom\u001b[39;00m \u001b[39mnumpy\u001b[39;00m\u001b[39m.\u001b[39;00m\u001b[39mpolynomial\u001b[39;00m\u001b[39m.\u001b[39;00m\u001b[39mpolynomial\u001b[39;00m \u001b[39mimport\u001b[39;00m polyval \u001b[39mas\u001b[39;00m npp_polyval\n\u001b[1;32m     14\u001b[0m \u001b[39mfrom\u001b[39;00m \u001b[39mnumpy\u001b[39;00m\u001b[39m.\u001b[39;00m\u001b[39mpolynomial\u001b[39;00m\u001b[39m.\u001b[39;00m\u001b[39mpolynomial\u001b[39;00m \u001b[39mimport\u001b[39;00m polyvalfromroots\n\u001b[0;32m---> 16\u001b[0m \u001b[39mfrom\u001b[39;00m \u001b[39mscipy\u001b[39;00m \u001b[39mimport\u001b[39;00m special, optimize, fft \u001b[39mas\u001b[39;00m sp_fft\n\u001b[1;32m     17\u001b[0m \u001b[39mfrom\u001b[39;00m \u001b[39mscipy\u001b[39;00m\u001b[39m.\u001b[39;00m\u001b[39mspecial\u001b[39;00m \u001b[39mimport\u001b[39;00m comb\n\u001b[1;32m     18\u001b[0m \u001b[39mfrom\u001b[39;00m \u001b[39mscipy\u001b[39;00m\u001b[39m.\u001b[39;00m\u001b[39m_lib\u001b[39;00m\u001b[39m.\u001b[39;00m\u001b[39m_util\u001b[39;00m \u001b[39mimport\u001b[39;00m float_factorial\n",
      "File \u001b[0;32m<frozen importlib._bootstrap>:1039\u001b[0m, in \u001b[0;36m_handle_fromlist\u001b[0;34m(module, fromlist, import_, recursive)\u001b[0m\n",
      "File \u001b[0;32m~/miniconda3/envs/muscaps/lib/python3.8/site-packages/scipy/__init__.py:211\u001b[0m, in \u001b[0;36m__getattr__\u001b[0;34m(name)\u001b[0m\n\u001b[1;32m    209\u001b[0m \u001b[39mdef\u001b[39;00m \u001b[39m__getattr__\u001b[39m(name):\n\u001b[1;32m    210\u001b[0m     \u001b[39mif\u001b[39;00m name \u001b[39min\u001b[39;00m submodules:\n\u001b[0;32m--> 211\u001b[0m         \u001b[39mreturn\u001b[39;00m _importlib\u001b[39m.\u001b[39;49mimport_module(\u001b[39mf\u001b[39;49m\u001b[39m'\u001b[39;49m\u001b[39mscipy.\u001b[39;49m\u001b[39m{\u001b[39;49;00mname\u001b[39m}\u001b[39;49;00m\u001b[39m'\u001b[39;49m)\n\u001b[1;32m    212\u001b[0m     \u001b[39melse\u001b[39;00m:\n\u001b[1;32m    213\u001b[0m         \u001b[39mtry\u001b[39;00m:\n",
      "File \u001b[0;32m~/miniconda3/envs/muscaps/lib/python3.8/importlib/__init__.py:127\u001b[0m, in \u001b[0;36mimport_module\u001b[0;34m(name, package)\u001b[0m\n\u001b[1;32m    125\u001b[0m             \u001b[39mbreak\u001b[39;00m\n\u001b[1;32m    126\u001b[0m         level \u001b[39m+\u001b[39m\u001b[39m=\u001b[39m \u001b[39m1\u001b[39m\n\u001b[0;32m--> 127\u001b[0m \u001b[39mreturn\u001b[39;00m _bootstrap\u001b[39m.\u001b[39;49m_gcd_import(name[level:], package, level)\n",
      "File \u001b[0;32m~/miniconda3/envs/muscaps/lib/python3.8/site-packages/scipy/optimize/__init__.py:414\u001b[0m\n\u001b[1;32m    412\u001b[0m \u001b[39mfrom\u001b[39;00m \u001b[39m.\u001b[39;00m\u001b[39m_basinhopping\u001b[39;00m \u001b[39mimport\u001b[39;00m basinhopping\n\u001b[1;32m    413\u001b[0m \u001b[39mfrom\u001b[39;00m \u001b[39m.\u001b[39;00m\u001b[39m_linprog\u001b[39;00m \u001b[39mimport\u001b[39;00m linprog, linprog_verbose_callback\n\u001b[0;32m--> 414\u001b[0m \u001b[39mfrom\u001b[39;00m \u001b[39m.\u001b[39;00m\u001b[39m_lsap\u001b[39;00m \u001b[39mimport\u001b[39;00m linear_sum_assignment\n\u001b[1;32m    415\u001b[0m \u001b[39mfrom\u001b[39;00m \u001b[39m.\u001b[39;00m\u001b[39m_differentialevolution\u001b[39;00m \u001b[39mimport\u001b[39;00m differential_evolution\n\u001b[1;32m    416\u001b[0m \u001b[39mfrom\u001b[39;00m \u001b[39m.\u001b[39;00m\u001b[39m_lsq\u001b[39;00m \u001b[39mimport\u001b[39;00m least_squares, lsq_linear\n",
      "\u001b[0;31mKeyboardInterrupt\u001b[0m: "
     ]
    }
   ],
   "source": [
    "import os\n",
    "import librosa\n",
    "import numpy as np\n",
    "\n",
    "audio_dir = \"data/datasets/muscaps/audio\"\n",
    "for audio_file in os.listdir(audio_dir):\n",
    "    audio_path = os.path.join(audio_dir, audio_file)\n",
    "    audio, sr = librosa.load(audio_path, 16000)\n",
    "    array_path = audio_path.replace(\"wav\", \"npy\")\n",
    "    np.save(open(array_path, 'wb'), audio)"
   ]
  },
  {
   "cell_type": "code",
   "execution_count": 4,
   "metadata": {},
   "outputs": [],
   "source": [
    "# embeddings = np.load('embeddings.npy', allow_pickle=True).item()\n",
    "\n",
    "# audio_dir = \"data/datasets/muscaps/audio\"\n",
    "# for key, value in embeddings.items():\n",
    "#     audio_path = os.path.join(audio_dir, key+'.npy')\n",
    "#     np.save(open(audio_path, 'wb'), value[:256])\n",
    "    "
   ]
  },
  {
   "cell_type": "code",
   "execution_count": 12,
   "metadata": {},
   "outputs": [
    {
     "name": "stderr",
     "output_type": "stream",
     "text": [
      "Found cached dataset csv (/Users/alexandrasouly/.cache/huggingface/datasets/google___csv/google--MusicCaps-7925612b943f961b/0.0.0/6b34fb8fcf56f7c8ba51dc895bfa2bfbe43546f190a60fcf74bb5e8afdcc2317)\n",
      "Map (num_proc=8):   0%|          | 0/5521 [00:00<?, ? examples/s]"
     ]
    },
    {
     "name": "stdout",
     "output_type": "stream",
     "text": [
      "yt-dlp -x --audio-format wav -f bestaudio -o \"/Users/alexandrasouly/code/muscaps/data/datasets/muscaps/audio/idVCpQaByc4.wav\" --download-sections \"*70-80\" --force-keyframes-at-cuts https://www.youtube.com/watch?v=idVCpQaByc4\n",
      "yt-dlp -x --audio-format wav -f bestaudio -o \"/Users/alexandrasouly/code/muscaps/data/datasets/muscaps/audio/d6-bQMCz7j0.wav\" --download-sections \"*30-40\" --force-keyframes-at-cuts https://www.youtube.com/watch?v=d6-bQMCz7j0\n",
      "yt-dlp -x --audio-format wav -f bestaudio -o \"/Users/alexandrasouly/code/muscaps/data/datasets/muscaps/audio/HAHn_zB47ig.wav\" --download-sections \"*80-90\" --force-keyframes-at-cuts https://www.youtube.com/watch?v=HAHn_zB47ig\n",
      "Command 'yt-dlp -x --audio-format wav -f bestaudio -o \"/Users/alexandrasouly/code/muscaps/data/datasets/muscaps/audio/d6-bQMCz7j0.wav\" --download-sections \"*30-40\" --force-keyframes-at-cuts https://www.youtube.com/watch?v=d6-bQMCz7j0' returned non-zero exit status 1.Command 'yt-dlp -x --audio-format wav -f bestaudio -o \"/Users/alexandrasouly/code/muscaps/data/datasets/muscaps/audio/HAHn_zB47ig.wav\" --download-sections \"*80-90\" --force-keyframes-at-cuts https://www.youtube.com/watch?v=HAHn_zB47ig' returned non-zero exit status 1.\n",
      "\n",
      "b\"[youtube] Extracting URL: https://www.youtube.com/watch?v=d6-bQMCz7j0\\n[youtube] d6-bQMCz7j0: Downloading webpage\\n[youtube] d6-bQMCz7j0: Downloading android player API JSON\\nERROR: [youtube] d6-bQMCz7j0: Private video. Sign in if you've been granted access to this video\\n\"b\"[youtube] Extracting URL: https://www.youtube.com/watch?v=HAHn_zB47ig\\n[youtube] HAHn_zB47ig: Downloading webpage\\n[youtube] HAHn_zB47ig: Downloading android player API JSON\\nERROR: [youtube] HAHn_zB47ig: Private video. Sign in if you've been granted access to this video\\n\"\n",
      "\n",
      "Command 'yt-dlp -x --audio-format wav -f bestaudio -o \"/Users/alexandrasouly/code/muscaps/data/datasets/muscaps/audio/d6-bQMCz7j0.wav\" --download-sections \"*30-40\" --force-keyframes-at-cuts https://www.youtube.com/watch?v=d6-bQMCz7j0' returned non-zero exit status 1.\n",
      "Command 'yt-dlp -x --audio-format wav -f bestaudio -o \"/Users/alexandrasouly/code/muscaps/data/datasets/muscaps/audio/HAHn_zB47ig.wav\" --download-sections \"*80-90\" --force-keyframes-at-cuts https://www.youtube.com/watch?v=HAHn_zB47ig' returned non-zero exit status 1.b\"[youtube] Extracting URL: https://www.youtube.com/watch?v=d6-bQMCz7j0\\n[youtube] d6-bQMCz7j0: Downloading webpage\\n[youtube] d6-bQMCz7j0: Downloading android player API JSON\\nERROR: [youtube] d6-bQMCz7j0: Private video. Sign in if you've been granted access to this video\\n\"\n",
      "\n",
      "b\"[youtube] Extracting URL: https://www.youtube.com/watch?v=HAHn_zB47ig\\n[youtube] HAHn_zB47ig: Downloading webpage\\n[youtube] HAHn_zB47ig: Downloading android player API JSON\\nERROR: [youtube] HAHn_zB47ig: Private video. Sign in if you've been granted access to this video\\n\"\n",
      "Command 'yt-dlp -x --audio-format wav -f bestaudio -o \"/Users/alexandrasouly/code/muscaps/data/datasets/muscaps/audio/idVCpQaByc4.wav\" --download-sections \"*70-80\" --force-keyframes-at-cuts https://www.youtube.com/watch?v=idVCpQaByc4' returned non-zero exit status 1.\n",
      "b'[youtube] Extracting URL: https://www.youtube.com/watch?v=idVCpQaByc4\\n[youtube] idVCpQaByc4: Downloading webpage\\n[youtube] idVCpQaByc4: Downloading android player API JSON\\nERROR: [youtube] idVCpQaByc4: Requested format is not available. Use --list-formats for a list of available formats\\n'\n",
      "Command 'yt-dlp -x --audio-format wav -f bestaudio -o \"/Users/alexandrasouly/code/muscaps/data/datasets/muscaps/audio/HAHn_zB47ig.wav\" --download-sections \"*80-90\" --force-keyframes-at-cuts https://www.youtube.com/watch?v=HAHn_zB47ig' returned non-zero exit status 1.\n",
      "b\"[youtube] Extracting URL: https://www.youtube.com/watch?v=HAHn_zB47ig\\n[youtube] HAHn_zB47ig: Downloading webpage\\n[youtube] HAHn_zB47ig: Downloading android player API JSON\\nERROR: [youtube] HAHn_zB47ig: Private video. Sign in if you've been granted access to this video\\n\"\n",
      "Command 'yt-dlp -x --audio-format wav -f bestaudio -o \"/Users/alexandrasouly/code/muscaps/data/datasets/muscaps/audio/d6-bQMCz7j0.wav\" --download-sections \"*30-40\" --force-keyframes-at-cuts https://www.youtube.com/watch?v=d6-bQMCz7j0' returned non-zero exit status 1.\n",
      "b\"[youtube] Extracting URL: https://www.youtube.com/watch?v=d6-bQMCz7j0\\n[youtube] d6-bQMCz7j0: Downloading webpage\\n[youtube] d6-bQMCz7j0: Downloading android player API JSON\\nERROR: [youtube] d6-bQMCz7j0: Private video. Sign in if you've been granted access to this video\\n\"\n",
      "Command 'yt-dlp -x --audio-format wav -f bestaudio -o \"/Users/alexandrasouly/code/muscaps/data/datasets/muscaps/audio/idVCpQaByc4.wav\" --download-sections \"*70-80\" --force-keyframes-at-cuts https://www.youtube.com/watch?v=idVCpQaByc4' returned non-zero exit status 1.\n",
      "b'[youtube] Extracting URL: https://www.youtube.com/watch?v=idVCpQaByc4\\n[youtube] idVCpQaByc4: Downloading webpage\\n[youtube] idVCpQaByc4: Downloading android player API JSON\\nERROR: [youtube] idVCpQaByc4: Requested format is not available. Use --list-formats for a list of available formats\\n'\n",
      "Command 'yt-dlp -x --audio-format wav -f bestaudio -o \"/Users/alexandrasouly/code/muscaps/data/datasets/muscaps/audio/d6-bQMCz7j0.wav\" --download-sections \"*30-40\" --force-keyframes-at-cuts https://www.youtube.com/watch?v=d6-bQMCz7j0' returned non-zero exit status 1.\n",
      "b\"[youtube] Extracting URL: https://www.youtube.com/watch?v=d6-bQMCz7j0\\n[youtube] d6-bQMCz7j0: Downloading webpage\\n[youtube] d6-bQMCz7j0: Downloading android player API JSON\\nERROR: [youtube] d6-bQMCz7j0: Private video. Sign in if you've been granted access to this video\\n\"\n",
      "Command 'yt-dlp -x --audio-format wav -f bestaudio -o \"/Users/alexandrasouly/code/muscaps/data/datasets/muscaps/audio/HAHn_zB47ig.wav\" --download-sections \"*80-90\" --force-keyframes-at-cuts https://www.youtube.com/watch?v=HAHn_zB47ig' returned non-zero exit status 1.\n",
      "b\"[youtube] Extracting URL: https://www.youtube.com/watch?v=HAHn_zB47ig\\n[youtube] HAHn_zB47ig: Downloading webpage\\n[youtube] HAHn_zB47ig: Downloading android player API JSON\\nERROR: [youtube] HAHn_zB47ig: Private video. Sign in if you've been granted access to this video\\n\"\n",
      "Command 'yt-dlp -x --audio-format wav -f bestaudio -o \"/Users/alexandrasouly/code/muscaps/data/datasets/muscaps/audio/HAHn_zB47ig.wav\" --download-sections \"*80-90\" --force-keyframes-at-cuts https://www.youtube.com/watch?v=HAHn_zB47ig' returned non-zero exit status 1.\n",
      "b\"[youtube] Extracting URL: https://www.youtube.com/watch?v=HAHn_zB47ig\\n[youtube] HAHn_zB47ig: Downloading webpage\\n[youtube] HAHn_zB47ig: Downloading android player API JSON\\nERROR: [youtube] HAHn_zB47ig: Private video. Sign in if you've been granted access to this video\\n\"\n"
     ]
    },
    {
     "name": "stderr",
     "output_type": "stream",
     "text": [
      "Map (num_proc=8):   7%|▋         | 397/5521 [00:03<00:47, 107.44 examples/s]"
     ]
    },
    {
     "name": "stdout",
     "output_type": "stream",
     "text": [
      "yt-dlp -x --audio-format wav -f bestaudio -o \"/Users/alexandrasouly/code/muscaps/data/datasets/muscaps/audio/IbJh1xeBFcI.wav\" --download-sections \"*100-110\" --force-keyframes-at-cuts https://www.youtube.com/watch?v=IbJh1xeBFcI\n",
      "Command 'yt-dlp -x --audio-format wav -f bestaudio -o \"/Users/alexandrasouly/code/muscaps/data/datasets/muscaps/audio/idVCpQaByc4.wav\" --download-sections \"*70-80\" --force-keyframes-at-cuts https://www.youtube.com/watch?v=idVCpQaByc4' returned non-zero exit status 1.\n",
      "b'[youtube] Extracting URL: https://www.youtube.com/watch?v=idVCpQaByc4\\n[youtube] idVCpQaByc4: Downloading webpage\\n[youtube] idVCpQaByc4: Downloading android player API JSON\\nERROR: [youtube] idVCpQaByc4: Requested format is not available. Use --list-formats for a list of available formats\\n'\n",
      "Command 'yt-dlp -x --audio-format wav -f bestaudio -o \"/Users/alexandrasouly/code/muscaps/data/datasets/muscaps/audio/IbJh1xeBFcI.wav\" --download-sections \"*100-110\" --force-keyframes-at-cuts https://www.youtube.com/watch?v=IbJh1xeBFcI' returned non-zero exit status 1.\n",
      "b'[youtube] Extracting URL: https://www.youtube.com/watch?v=IbJh1xeBFcI\\n[youtube] IbJh1xeBFcI: Downloading webpage\\n[youtube] IbJh1xeBFcI: Downloading android player API JSON\\nERROR: [youtube] IbJh1xeBFcI: Video unavailable. This video has been removed by the uploader\\n'\n",
      "Command 'yt-dlp -x --audio-format wav -f bestaudio -o \"/Users/alexandrasouly/code/muscaps/data/datasets/muscaps/audio/idVCpQaByc4.wav\" --download-sections \"*70-80\" --force-keyframes-at-cuts https://www.youtube.com/watch?v=idVCpQaByc4' returned non-zero exit status 1.\n",
      "b'[youtube] Extracting URL: https://www.youtube.com/watch?v=idVCpQaByc4\\n[youtube] idVCpQaByc4: Downloading webpage\\n[youtube] idVCpQaByc4: Downloading android player API JSON\\nERROR: [youtube] idVCpQaByc4: Requested format is not available. Use --list-formats for a list of available formats\\n'\n",
      "Command 'yt-dlp -x --audio-format wav -f bestaudio -o \"/Users/alexandrasouly/code/muscaps/data/datasets/muscaps/audio/IbJh1xeBFcI.wav\" --download-sections \"*100-110\" --force-keyframes-at-cuts https://www.youtube.com/watch?v=IbJh1xeBFcI' returned non-zero exit status 1.\n",
      "b'[youtube] Extracting URL: https://www.youtube.com/watch?v=IbJh1xeBFcI\\n[youtube] IbJh1xeBFcI: Downloading webpage\\n[youtube] IbJh1xeBFcI: Downloading android player API JSON\\nERROR: [youtube] IbJh1xeBFcI: Video unavailable. This video has been removed by the uploader\\n'\n",
      "Command 'yt-dlp -x --audio-format wav -f bestaudio -o \"/Users/alexandrasouly/code/muscaps/data/datasets/muscaps/audio/d6-bQMCz7j0.wav\" --download-sections \"*30-40\" --force-keyframes-at-cuts https://www.youtube.com/watch?v=d6-bQMCz7j0' returned non-zero exit status 1.\n",
      "b\"[youtube] Extracting URL: https://www.youtube.com/watch?v=d6-bQMCz7j0\\n[youtube] d6-bQMCz7j0: Downloading webpage\\n[youtube] d6-bQMCz7j0: Downloading android player API JSON\\nERROR: [youtube] d6-bQMCz7j0: Private video. Sign in if you've been granted access to this video\\n\"\n"
     ]
    },
    {
     "name": "stderr",
     "output_type": "stream",
     "text": [
      "Map (num_proc=8):  13%|█▎        | 707/5521 [00:05<00:33, 143.51 examples/s]"
     ]
    },
    {
     "name": "stdout",
     "output_type": "stream",
     "text": [
      "yt-dlp -x --audio-format wav -f bestaudio -o \"/Users/alexandrasouly/code/muscaps/data/datasets/muscaps/audio/ed-1zAOr9PQ.wav\" --download-sections \"*390-400\" --force-keyframes-at-cuts https://www.youtube.com/watch?v=ed-1zAOr9PQ\n",
      "Command 'yt-dlp -x --audio-format wav -f bestaudio -o \"/Users/alexandrasouly/code/muscaps/data/datasets/muscaps/audio/IbJh1xeBFcI.wav\" --download-sections \"*100-110\" --force-keyframes-at-cuts https://www.youtube.com/watch?v=IbJh1xeBFcI' returned non-zero exit status 1.\n",
      "b'[youtube] Extracting URL: https://www.youtube.com/watch?v=IbJh1xeBFcI\\n[youtube] IbJh1xeBFcI: Downloading webpage\\n[youtube] IbJh1xeBFcI: Downloading android player API JSON\\nERROR: [youtube] IbJh1xeBFcI: Video unavailable. This video has been removed by the uploader\\n'\n",
      "Command 'yt-dlp -x --audio-format wav -f bestaudio -o \"/Users/alexandrasouly/code/muscaps/data/datasets/muscaps/audio/idVCpQaByc4.wav\" --download-sections \"*70-80\" --force-keyframes-at-cuts https://www.youtube.com/watch?v=idVCpQaByc4' returned non-zero exit status 1.\n",
      "b'[youtube] Extracting URL: https://www.youtube.com/watch?v=idVCpQaByc4\\n[youtube] idVCpQaByc4: Downloading webpage\\n[youtube] idVCpQaByc4: Downloading android player API JSON\\nERROR: [youtube] idVCpQaByc4: Requested format is not available. Use --list-formats for a list of available formats\\n'\n"
     ]
    },
    {
     "name": "stderr",
     "output_type": "stream",
     "text": [
      "Map (num_proc=8):  14%|█▍        | 776/5521 [00:05<00:31, 152.00 examples/s]"
     ]
    },
    {
     "name": "stdout",
     "output_type": "stream",
     "text": [
      "yt-dlp -x --audio-format wav -f bestaudio -o \"/Users/alexandrasouly/code/muscaps/data/datasets/muscaps/audio/lrk00BNiuD4.wav\" --download-sections \"*30-40\" --force-keyframes-at-cuts https://www.youtube.com/watch?v=lrk00BNiuD4\n",
      "Command 'yt-dlp -x --audio-format wav -f bestaudio -o \"/Users/alexandrasouly/code/muscaps/data/datasets/muscaps/audio/ed-1zAOr9PQ.wav\" --download-sections \"*390-400\" --force-keyframes-at-cuts https://www.youtube.com/watch?v=ed-1zAOr9PQ' returned non-zero exit status 1.\n",
      "b\"[youtube] Extracting URL: https://www.youtube.com/watch?v=ed-1zAOr9PQ\\n[youtube] ed-1zAOr9PQ: Downloading webpage\\n[youtube] ed-1zAOr9PQ: Downloading android player API JSON\\nERROR: [youtube] ed-1zAOr9PQ: Private video. Sign in if you've been granted access to this video\\n\"\n",
      "Command 'yt-dlp -x --audio-format wav -f bestaudio -o \"/Users/alexandrasouly/code/muscaps/data/datasets/muscaps/audio/IbJh1xeBFcI.wav\" --download-sections \"*100-110\" --force-keyframes-at-cuts https://www.youtube.com/watch?v=IbJh1xeBFcI' returned non-zero exit status 1.\n",
      "b'[youtube] Extracting URL: https://www.youtube.com/watch?v=IbJh1xeBFcI\\n[youtube] IbJh1xeBFcI: Downloading webpage\\n[youtube] IbJh1xeBFcI: Downloading android player API JSON\\nERROR: [youtube] IbJh1xeBFcI: Video unavailable. This video has been removed by the uploader\\n'\n",
      "Command 'yt-dlp -x --audio-format wav -f bestaudio -o \"/Users/alexandrasouly/code/muscaps/data/datasets/muscaps/audio/lrk00BNiuD4.wav\" --download-sections \"*30-40\" --force-keyframes-at-cuts https://www.youtube.com/watch?v=lrk00BNiuD4' returned non-zero exit status 1.\n",
      "b'[youtube] Extracting URL: https://www.youtube.com/watch?v=lrk00BNiuD4\\n[youtube] lrk00BNiuD4: Downloading webpage\\n[youtube] lrk00BNiuD4: Downloading android player API JSON\\nERROR: [youtube] lrk00BNiuD4: Video unavailable\\n'\n",
      "Command 'yt-dlp -x --audio-format wav -f bestaudio -o \"/Users/alexandrasouly/code/muscaps/data/datasets/muscaps/audio/lrk00BNiuD4.wav\" --download-sections \"*30-40\" --force-keyframes-at-cuts https://www.youtube.com/watch?v=lrk00BNiuD4' returned non-zero exit status 1.Command 'yt-dlp -x --audio-format wav -f bestaudio -o \"/Users/alexandrasouly/code/muscaps/data/datasets/muscaps/audio/IbJh1xeBFcI.wav\" --download-sections \"*100-110\" --force-keyframes-at-cuts https://www.youtube.com/watch?v=IbJh1xeBFcI' returned non-zero exit status 1.Command 'yt-dlp -x --audio-format wav -f bestaudio -o \"/Users/alexandrasouly/code/muscaps/data/datasets/muscaps/audio/ed-1zAOr9PQ.wav\" --download-sections \"*390-400\" --force-keyframes-at-cuts https://www.youtube.com/watch?v=ed-1zAOr9PQ' returned non-zero exit status 1.\n",
      "\n",
      "\n",
      "b\"[youtube] Extracting URL: https://www.youtube.com/watch?v=ed-1zAOr9PQ\\n[youtube] ed-1zAOr9PQ: Downloading webpage\\n[youtube] ed-1zAOr9PQ: Downloading android player API JSON\\nERROR: [youtube] ed-1zAOr9PQ: Private video. Sign in if you've been granted access to this video\\n\"b'[youtube] Extracting URL: https://www.youtube.com/watch?v=lrk00BNiuD4\\n[youtube] lrk00BNiuD4: Downloading webpage\\n[youtube] lrk00BNiuD4: Downloading android player API JSON\\nERROR: [youtube] lrk00BNiuD4: Video unavailable\\n'b'[youtube] Extracting URL: https://www.youtube.com/watch?v=IbJh1xeBFcI\\n[youtube] IbJh1xeBFcI: Downloading webpage\\n[youtube] IbJh1xeBFcI: Downloading android player API JSON\\nERROR: [youtube] IbJh1xeBFcI: Video unavailable. This video has been removed by the uploader\\n'\n",
      "\n",
      "\n"
     ]
    },
    {
     "name": "stderr",
     "output_type": "stream",
     "text": [
      "Map (num_proc=8):  17%|█▋        | 920/5521 [00:06<00:29, 154.42 examples/s]"
     ]
    },
    {
     "name": "stdout",
     "output_type": "stream",
     "text": [
      "Command 'yt-dlp -x --audio-format wav -f bestaudio -o \"/Users/alexandrasouly/code/muscaps/data/datasets/muscaps/audio/lrk00BNiuD4.wav\" --download-sections \"*30-40\" --force-keyframes-at-cuts https://www.youtube.com/watch?v=lrk00BNiuD4' returned non-zero exit status 1.\n",
      "b'[youtube] Extracting URL: https://www.youtube.com/watch?v=lrk00BNiuD4\\n[youtube] lrk00BNiuD4: Downloading webpage\\n[youtube] lrk00BNiuD4: Downloading android player API JSON\\nERROR: [youtube] lrk00BNiuD4: Video unavailable\\n'\n",
      "Command 'yt-dlp -x --audio-format wav -f bestaudio -o \"/Users/alexandrasouly/code/muscaps/data/datasets/muscaps/audio/ed-1zAOr9PQ.wav\" --download-sections \"*390-400\" --force-keyframes-at-cuts https://www.youtube.com/watch?v=ed-1zAOr9PQ' returned non-zero exit status 1.\n",
      "b\"[youtube] Extracting URL: https://www.youtube.com/watch?v=ed-1zAOr9PQ\\n[youtube] ed-1zAOr9PQ: Downloading webpage\\n[youtube] ed-1zAOr9PQ: Downloading android player API JSON\\nERROR: [youtube] ed-1zAOr9PQ: Private video. Sign in if you've been granted access to this video\\n\"\n",
      "Command 'yt-dlp -x --audio-format wav -f bestaudio -o \"/Users/alexandrasouly/code/muscaps/data/datasets/muscaps/audio/ed-1zAOr9PQ.wav\" --download-sections \"*390-400\" --force-keyframes-at-cuts https://www.youtube.com/watch?v=ed-1zAOr9PQ' returned non-zero exit status 1.\n",
      "b\"[youtube] Extracting URL: https://www.youtube.com/watch?v=ed-1zAOr9PQ\\n[youtube] ed-1zAOr9PQ: Downloading webpage\\n[youtube] ed-1zAOr9PQ: Downloading android player API JSON\\nERROR: [youtube] ed-1zAOr9PQ: Private video. Sign in if you've been granted access to this video\\n\"\n",
      "Command 'yt-dlp -x --audio-format wav -f bestaudio -o \"/Users/alexandrasouly/code/muscaps/data/datasets/muscaps/audio/lrk00BNiuD4.wav\" --download-sections \"*30-40\" --force-keyframes-at-cuts https://www.youtube.com/watch?v=lrk00BNiuD4' returned non-zero exit status 1.\n",
      "b'[youtube] Extracting URL: https://www.youtube.com/watch?v=lrk00BNiuD4\\n[youtube] lrk00BNiuD4: Downloading webpage\\n[youtube] lrk00BNiuD4: Downloading android player API JSON\\nERROR: [youtube] lrk00BNiuD4: Video unavailable\\n'\n",
      "Command 'yt-dlp -x --audio-format wav -f bestaudio -o \"/Users/alexandrasouly/code/muscaps/data/datasets/muscaps/audio/lrk00BNiuD4.wav\" --download-sections \"*30-40\" --force-keyframes-at-cuts https://www.youtube.com/watch?v=lrk00BNiuD4' returned non-zero exit status 1.\n",
      "b'[youtube] Extracting URL: https://www.youtube.com/watch?v=lrk00BNiuD4\\n[youtube] lrk00BNiuD4: Downloading webpage\\n[youtube] lrk00BNiuD4: Downloading android player API JSON\\nERROR: [youtube] lrk00BNiuD4: Video unavailable\\n'\n"
     ]
    },
    {
     "name": "stderr",
     "output_type": "stream",
     "text": [
      "Map (num_proc=8):  23%|██▎       | 1286/5521 [00:07<00:22, 187.96 examples/s]"
     ]
    },
    {
     "name": "stdout",
     "output_type": "stream",
     "text": [
      "yt-dlp -x --audio-format wav -f bestaudio -o \"/Users/alexandrasouly/code/muscaps/data/datasets/muscaps/audio/m-e3w2yZ6sM.wav\" --download-sections \"*30-40\" --force-keyframes-at-cuts https://www.youtube.com/watch?v=m-e3w2yZ6sM\n",
      "Command 'yt-dlp -x --audio-format wav -f bestaudio -o \"/Users/alexandrasouly/code/muscaps/data/datasets/muscaps/audio/ed-1zAOr9PQ.wav\" --download-sections \"*390-400\" --force-keyframes-at-cuts https://www.youtube.com/watch?v=ed-1zAOr9PQ' returned non-zero exit status 1.\n",
      "b\"[youtube] Extracting URL: https://www.youtube.com/watch?v=ed-1zAOr9PQ\\n[youtube] ed-1zAOr9PQ: Downloading webpage\\n[youtube] ed-1zAOr9PQ: Downloading android player API JSON\\nERROR: [youtube] ed-1zAOr9PQ: Private video. Sign in if you've been granted access to this video\\n\"\n",
      "yt-dlp -x --audio-format wav -f bestaudio -o \"/Users/alexandrasouly/code/muscaps/data/datasets/muscaps/audio/fZyq2pM2-dI.wav\" --download-sections \"*30-40\" --force-keyframes-at-cuts https://www.youtube.com/watch?v=fZyq2pM2-dI\n",
      "Command 'yt-dlp -x --audio-format wav -f bestaudio -o \"/Users/alexandrasouly/code/muscaps/data/datasets/muscaps/audio/fZyq2pM2-dI.wav\" --download-sections \"*30-40\" --force-keyframes-at-cuts https://www.youtube.com/watch?v=fZyq2pM2-dI' returned non-zero exit status 1.Command 'yt-dlp -x --audio-format wav -f bestaudio -o \"/Users/alexandrasouly/code/muscaps/data/datasets/muscaps/audio/m-e3w2yZ6sM.wav\" --download-sections \"*30-40\" --force-keyframes-at-cuts https://www.youtube.com/watch?v=m-e3w2yZ6sM' returned non-zero exit status 1.\n",
      "\n",
      "b'[youtube] Extracting URL: https://www.youtube.com/watch?v=fZyq2pM2-dI\\n[youtube] fZyq2pM2-dI: Downloading webpage\\n[youtube] fZyq2pM2-dI: Downloading android player API JSON\\nERROR: [youtube] fZyq2pM2-dI: Video unavailable. This video is no longer available because the YouTube account associated with this video has been terminated.\\n'b'[youtube] Extracting URL: https://www.youtube.com/watch?v=m-e3w2yZ6sM\\n[youtube] m-e3w2yZ6sM: Downloading webpage\\n[youtube] m-e3w2yZ6sM: Downloading android player API JSON\\nERROR: [youtube] m-e3w2yZ6sM: Video unavailable\\n'\n",
      "\n",
      "Command 'yt-dlp -x --audio-format wav -f bestaudio -o \"/Users/alexandrasouly/code/muscaps/data/datasets/muscaps/audio/fZyq2pM2-dI.wav\" --download-sections \"*30-40\" --force-keyframes-at-cuts https://www.youtube.com/watch?v=fZyq2pM2-dI' returned non-zero exit status 1.\n",
      "b'[youtube] Extracting URL: https://www.youtube.com/watch?v=fZyq2pM2-dI\\n[youtube] fZyq2pM2-dI: Downloading webpage\\n[youtube] fZyq2pM2-dI: Downloading android player API JSON\\nERROR: [youtube] fZyq2pM2-dI: Video unavailable. This video is no longer available because the YouTube account associated with this video has been terminated.\\n'Command 'yt-dlp -x --audio-format wav -f bestaudio -o \"/Users/alexandrasouly/code/muscaps/data/datasets/muscaps/audio/m-e3w2yZ6sM.wav\" --download-sections \"*30-40\" --force-keyframes-at-cuts https://www.youtube.com/watch?v=m-e3w2yZ6sM' returned non-zero exit status 1.\n",
      "\n",
      "b'[youtube] Extracting URL: https://www.youtube.com/watch?v=m-e3w2yZ6sM\\n[youtube] m-e3w2yZ6sM: Downloading webpage\\n[youtube] m-e3w2yZ6sM: Downloading android player API JSON\\nERROR: [youtube] m-e3w2yZ6sM: Video unavailable\\n'\n",
      "Command 'yt-dlp -x --audio-format wav -f bestaudio -o \"/Users/alexandrasouly/code/muscaps/data/datasets/muscaps/audio/m-e3w2yZ6sM.wav\" --download-sections \"*30-40\" --force-keyframes-at-cuts https://www.youtube.com/watch?v=m-e3w2yZ6sM' returned non-zero exit status 1.Command 'yt-dlp -x --audio-format wav -f bestaudio -o \"/Users/alexandrasouly/code/muscaps/data/datasets/muscaps/audio/fZyq2pM2-dI.wav\" --download-sections \"*30-40\" --force-keyframes-at-cuts https://www.youtube.com/watch?v=fZyq2pM2-dI' returned non-zero exit status 1.\n",
      "\n",
      "b'[youtube] Extracting URL: https://www.youtube.com/watch?v=m-e3w2yZ6sM\\n[youtube] m-e3w2yZ6sM: Downloading webpage\\n[youtube] m-e3w2yZ6sM: Downloading android player API JSON\\nERROR: [youtube] m-e3w2yZ6sM: Video unavailable\\n'b'[youtube] Extracting URL: https://www.youtube.com/watch?v=fZyq2pM2-dI\\n[youtube] fZyq2pM2-dI: Downloading webpage\\n[youtube] fZyq2pM2-dI: Downloading android player API JSON\\nERROR: [youtube] fZyq2pM2-dI: Video unavailable. This video is no longer available because the YouTube account associated with this video has been terminated.\\n'\n",
      "\n",
      "Command 'yt-dlp -x --audio-format wav -f bestaudio -o \"/Users/alexandrasouly/code/muscaps/data/datasets/muscaps/audio/m-e3w2yZ6sM.wav\" --download-sections \"*30-40\" --force-keyframes-at-cuts https://www.youtube.com/watch?v=m-e3w2yZ6sM' returned non-zero exit status 1.\n",
      "b'[youtube] Extracting URL: https://www.youtube.com/watch?v=m-e3w2yZ6sM\\n[youtube] m-e3w2yZ6sM: Downloading webpage\\n[youtube] m-e3w2yZ6sM: Downloading android player API JSON\\nERROR: [youtube] m-e3w2yZ6sM: Video unavailable\\n'\n",
      "Command 'yt-dlp -x --audio-format wav -f bestaudio -o \"/Users/alexandrasouly/code/muscaps/data/datasets/muscaps/audio/fZyq2pM2-dI.wav\" --download-sections \"*30-40\" --force-keyframes-at-cuts https://www.youtube.com/watch?v=fZyq2pM2-dI' returned non-zero exit status 1.\n",
      "b'[youtube] Extracting URL: https://www.youtube.com/watch?v=fZyq2pM2-dI\\n[youtube] fZyq2pM2-dI: Downloading webpage\\n[youtube] fZyq2pM2-dI: Downloading android player API JSON\\nERROR: [youtube] fZyq2pM2-dI: Video unavailable. This video is no longer available because the YouTube account associated with this video has been terminated.\\n'\n",
      "Command 'yt-dlp -x --audio-format wav -f bestaudio -o \"/Users/alexandrasouly/code/muscaps/data/datasets/muscaps/audio/m-e3w2yZ6sM.wav\" --download-sections \"*30-40\" --force-keyframes-at-cuts https://www.youtube.com/watch?v=m-e3w2yZ6sM' returned non-zero exit status 1.\n",
      "b'[youtube] Extracting URL: https://www.youtube.com/watch?v=m-e3w2yZ6sM\\n[youtube] m-e3w2yZ6sM: Downloading webpage\\n[youtube] m-e3w2yZ6sM: Downloading android player API JSON\\nERROR: [youtube] m-e3w2yZ6sM: Video unavailable\\n'\n"
     ]
    },
    {
     "name": "stderr",
     "output_type": "stream",
     "text": [
      "Map (num_proc=8):  26%|██▌       | 1422/5521 [00:10<00:34, 120.25 examples/s]"
     ]
    },
    {
     "name": "stdout",
     "output_type": "stream",
     "text": [
      "yt-dlp -x --audio-format wav -f bestaudio -o \"/Users/alexandrasouly/code/muscaps/data/datasets/muscaps/audio/nTtxF9Wyw6o.wav\" --download-sections \"*30-40\" --force-keyframes-at-cuts https://www.youtube.com/watch?v=nTtxF9Wyw6o\n",
      "Command 'yt-dlp -x --audio-format wav -f bestaudio -o \"/Users/alexandrasouly/code/muscaps/data/datasets/muscaps/audio/fZyq2pM2-dI.wav\" --download-sections \"*30-40\" --force-keyframes-at-cuts https://www.youtube.com/watch?v=fZyq2pM2-dI' returned non-zero exit status 1.\n",
      "b'[youtube] Extracting URL: https://www.youtube.com/watch?v=fZyq2pM2-dI\\n[youtube] fZyq2pM2-dI: Downloading webpage\\n[youtube] fZyq2pM2-dI: Downloading android player API JSON\\nERROR: [youtube] fZyq2pM2-dI: Video unavailable. This video is no longer available because the YouTube account associated with this video has been terminated.\\n'\n",
      "yt-dlp -x --audio-format wav -f bestaudio -o \"/Users/alexandrasouly/code/muscaps/data/datasets/muscaps/audio/gdtw54I8soM.wav\" --download-sections \"*0-10\" --force-keyframes-at-cuts https://www.youtube.com/watch?v=gdtw54I8soM\n",
      "Command 'yt-dlp -x --audio-format wav -f bestaudio -o \"/Users/alexandrasouly/code/muscaps/data/datasets/muscaps/audio/nTtxF9Wyw6o.wav\" --download-sections \"*30-40\" --force-keyframes-at-cuts https://www.youtube.com/watch?v=nTtxF9Wyw6o' returned non-zero exit status 1.\n",
      "b'[youtube] Extracting URL: https://www.youtube.com/watch?v=nTtxF9Wyw6o\\n[youtube] nTtxF9Wyw6o: Downloading webpage\\n[youtube] nTtxF9Wyw6o: Downloading android player API JSON\\nERROR: [youtube] nTtxF9Wyw6o: Video unavailable\\n'\n",
      "Command 'yt-dlp -x --audio-format wav -f bestaudio -o \"/Users/alexandrasouly/code/muscaps/data/datasets/muscaps/audio/gdtw54I8soM.wav\" --download-sections \"*0-10\" --force-keyframes-at-cuts https://www.youtube.com/watch?v=gdtw54I8soM' returned non-zero exit status 1.\n",
      "b\"[youtube] Extracting URL: https://www.youtube.com/watch?v=gdtw54I8soM\\n[youtube] gdtw54I8soM: Downloading webpage\\n[youtube] gdtw54I8soM: Downloading android player API JSON\\nERROR: [youtube] gdtw54I8soM: Private video. Sign in if you've been granted access to this video\\n\"\n",
      "Command 'yt-dlp -x --audio-format wav -f bestaudio -o \"/Users/alexandrasouly/code/muscaps/data/datasets/muscaps/audio/nTtxF9Wyw6o.wav\" --download-sections \"*30-40\" --force-keyframes-at-cuts https://www.youtube.com/watch?v=nTtxF9Wyw6o' returned non-zero exit status 1.\n",
      "b'[youtube] Extracting URL: https://www.youtube.com/watch?v=nTtxF9Wyw6o\\n[youtube] nTtxF9Wyw6o: Downloading webpage\\n[youtube] nTtxF9Wyw6o: Downloading android player API JSON\\nERROR: [youtube] nTtxF9Wyw6o: Video unavailable\\n'\n",
      "Command 'yt-dlp -x --audio-format wav -f bestaudio -o \"/Users/alexandrasouly/code/muscaps/data/datasets/muscaps/audio/gdtw54I8soM.wav\" --download-sections \"*0-10\" --force-keyframes-at-cuts https://www.youtube.com/watch?v=gdtw54I8soM' returned non-zero exit status 1.\n",
      "b\"[youtube] Extracting URL: https://www.youtube.com/watch?v=gdtw54I8soM\\n[youtube] gdtw54I8soM: Downloading webpage\\n[youtube] gdtw54I8soM: Downloading android player API JSON\\nERROR: [youtube] gdtw54I8soM: Private video. Sign in if you've been granted access to this video\\n\"\n",
      "Command 'yt-dlp -x --audio-format wav -f bestaudio -o \"/Users/alexandrasouly/code/muscaps/data/datasets/muscaps/audio/nTtxF9Wyw6o.wav\" --download-sections \"*30-40\" --force-keyframes-at-cuts https://www.youtube.com/watch?v=nTtxF9Wyw6o' returned non-zero exit status 1.\n",
      "b'[youtube] Extracting URL: https://www.youtube.com/watch?v=nTtxF9Wyw6o\\n[youtube] nTtxF9Wyw6o: Downloading webpage\\n[youtube] nTtxF9Wyw6o: Downloading android player API JSON\\nERROR: [youtube] nTtxF9Wyw6o: Video unavailable\\n'\n",
      "Command 'yt-dlp -x --audio-format wav -f bestaudio -o \"/Users/alexandrasouly/code/muscaps/data/datasets/muscaps/audio/gdtw54I8soM.wav\" --download-sections \"*0-10\" --force-keyframes-at-cuts https://www.youtube.com/watch?v=gdtw54I8soM' returned non-zero exit status 1.\n",
      "b\"[youtube] Extracting URL: https://www.youtube.com/watch?v=gdtw54I8soM\\n[youtube] gdtw54I8soM: Downloading webpage\\n[youtube] gdtw54I8soM: Downloading android player API JSON\\nERROR: [youtube] gdtw54I8soM: Private video. Sign in if you've been granted access to this video\\n\"\n",
      "Command 'yt-dlp -x --audio-format wav -f bestaudio -o \"/Users/alexandrasouly/code/muscaps/data/datasets/muscaps/audio/nTtxF9Wyw6o.wav\" --download-sections \"*30-40\" --force-keyframes-at-cuts https://www.youtube.com/watch?v=nTtxF9Wyw6o' returned non-zero exit status 1.\n",
      "b'[youtube] Extracting URL: https://www.youtube.com/watch?v=nTtxF9Wyw6o\\n[youtube] nTtxF9Wyw6o: Downloading webpage\\n[youtube] nTtxF9Wyw6o: Downloading android player API JSON\\nERROR: [youtube] nTtxF9Wyw6o: Video unavailable\\n'\n",
      "Command 'yt-dlp -x --audio-format wav -f bestaudio -o \"/Users/alexandrasouly/code/muscaps/data/datasets/muscaps/audio/gdtw54I8soM.wav\" --download-sections \"*0-10\" --force-keyframes-at-cuts https://www.youtube.com/watch?v=gdtw54I8soM' returned non-zero exit status 1.\n",
      "b\"[youtube] Extracting URL: https://www.youtube.com/watch?v=gdtw54I8soM\\n[youtube] gdtw54I8soM: Downloading webpage\\n[youtube] gdtw54I8soM: Downloading android player API JSON\\nERROR: [youtube] gdtw54I8soM: Private video. Sign in if you've been granted access to this video\\n\"\n",
      "Command 'yt-dlp -x --audio-format wav -f bestaudio -o \"/Users/alexandrasouly/code/muscaps/data/datasets/muscaps/audio/gdtw54I8soM.wav\" --download-sections \"*0-10\" --force-keyframes-at-cuts https://www.youtube.com/watch?v=gdtw54I8soM' returned non-zero exit status 1.Command 'yt-dlp -x --audio-format wav -f bestaudio -o \"/Users/alexandrasouly/code/muscaps/data/datasets/muscaps/audio/nTtxF9Wyw6o.wav\" --download-sections \"*30-40\" --force-keyframes-at-cuts https://www.youtube.com/watch?v=nTtxF9Wyw6o' returned non-zero exit status 1.\n",
      "\n",
      "b'[youtube] Extracting URL: https://www.youtube.com/watch?v=nTtxF9Wyw6o\\n[youtube] nTtxF9Wyw6o: Downloading webpage\\n[youtube] nTtxF9Wyw6o: Downloading android player API JSON\\nERROR: [youtube] nTtxF9Wyw6o: Video unavailable\\n'b\"[youtube] Extracting URL: https://www.youtube.com/watch?v=gdtw54I8soM\\n[youtube] gdtw54I8soM: Downloading webpage\\n[youtube] gdtw54I8soM: Downloading android player API JSON\\nERROR: [youtube] gdtw54I8soM: Private video. Sign in if you've been granted access to this video\\n\"\n",
      "\n"
     ]
    },
    {
     "name": "stderr",
     "output_type": "stream",
     "text": [
      "Map (num_proc=8):  29%|██▉       | 1601/5521 [00:13<00:43, 90.73 examples/s] "
     ]
    },
    {
     "name": "stdout",
     "output_type": "stream",
     "text": [
      "yt-dlp -x --audio-format wav -f bestaudio -o \"/Users/alexandrasouly/code/muscaps/data/datasets/muscaps/audio/qc1DaM4kdO0.wav\" --download-sections \"*30-40\" --force-keyframes-at-cuts https://www.youtube.com/watch?v=qc1DaM4kdO0\n",
      "Command 'yt-dlp -x --audio-format wav -f bestaudio -o \"/Users/alexandrasouly/code/muscaps/data/datasets/muscaps/audio/qc1DaM4kdO0.wav\" --download-sections \"*30-40\" --force-keyframes-at-cuts https://www.youtube.com/watch?v=qc1DaM4kdO0' returned non-zero exit status 1.\n",
      "b\"[youtube] Extracting URL: https://www.youtube.com/watch?v=qc1DaM4kdO0\\n[youtube] qc1DaM4kdO0: Downloading webpage\\n[youtube] qc1DaM4kdO0: Downloading android player API JSON\\nERROR: [youtube] qc1DaM4kdO0: Private video. Sign in if you've been granted access to this video\\n\"\n",
      "Command 'yt-dlp -x --audio-format wav -f bestaudio -o \"/Users/alexandrasouly/code/muscaps/data/datasets/muscaps/audio/qc1DaM4kdO0.wav\" --download-sections \"*30-40\" --force-keyframes-at-cuts https://www.youtube.com/watch?v=qc1DaM4kdO0' returned non-zero exit status 1.\n",
      "b\"[youtube] Extracting URL: https://www.youtube.com/watch?v=qc1DaM4kdO0\\n[youtube] qc1DaM4kdO0: Downloading webpage\\n[youtube] qc1DaM4kdO0: Downloading android player API JSON\\nERROR: [youtube] qc1DaM4kdO0: Private video. Sign in if you've been granted access to this video\\n\"\n",
      "Command 'yt-dlp -x --audio-format wav -f bestaudio -o \"/Users/alexandrasouly/code/muscaps/data/datasets/muscaps/audio/qc1DaM4kdO0.wav\" --download-sections \"*30-40\" --force-keyframes-at-cuts https://www.youtube.com/watch?v=qc1DaM4kdO0' returned non-zero exit status 1.\n",
      "b\"[youtube] Extracting URL: https://www.youtube.com/watch?v=qc1DaM4kdO0\\n[youtube] qc1DaM4kdO0: Downloading webpage\\n[youtube] qc1DaM4kdO0: Downloading android player API JSON\\nERROR: [youtube] qc1DaM4kdO0: Private video. Sign in if you've been granted access to this video\\n\"\n",
      "Command 'yt-dlp -x --audio-format wav -f bestaudio -o \"/Users/alexandrasouly/code/muscaps/data/datasets/muscaps/audio/qc1DaM4kdO0.wav\" --download-sections \"*30-40\" --force-keyframes-at-cuts https://www.youtube.com/watch?v=qc1DaM4kdO0' returned non-zero exit status 1.\n",
      "b\"[youtube] Extracting URL: https://www.youtube.com/watch?v=qc1DaM4kdO0\\n[youtube] qc1DaM4kdO0: Downloading webpage\\n[youtube] qc1DaM4kdO0: Downloading android player API JSON\\nERROR: [youtube] qc1DaM4kdO0: Private video. Sign in if you've been granted access to this video\\n\"\n",
      "Command 'yt-dlp -x --audio-format wav -f bestaudio -o \"/Users/alexandrasouly/code/muscaps/data/datasets/muscaps/audio/qc1DaM4kdO0.wav\" --download-sections \"*30-40\" --force-keyframes-at-cuts https://www.youtube.com/watch?v=qc1DaM4kdO0' returned non-zero exit status 1.\n",
      "b\"[youtube] Extracting URL: https://www.youtube.com/watch?v=qc1DaM4kdO0\\n[youtube] qc1DaM4kdO0: Downloading webpage\\n[youtube] qc1DaM4kdO0: Downloading android player API JSON\\nERROR: [youtube] qc1DaM4kdO0: Private video. Sign in if you've been granted access to this video\\n\"\n"
     ]
    },
    {
     "name": "stderr",
     "output_type": "stream",
     "text": [
      "                                                                             \r"
     ]
    }
   ],
   "source": [
    "from musiccaps import load_musiccaps\n",
    "import numpy as np\n",
    "import torch\n",
    "import re\n",
    "import json\n",
    "\n",
    "ds = load_musiccaps(\n",
    "    '/Users/alexandrasouly/code/muscaps/data/datasets/muscaps/audio',\n",
    "    sampling_rate=16000,\n",
    "    limit=None,\n",
    "    num_proc=8,\n",
    "    writer_batch_size=1000,\n",
    "    return_without_audio=False\n",
    ")\n"
   ]
  },
  {
   "cell_type": "code",
   "execution_count": 6,
   "metadata": {},
   "outputs": [
    {
     "ename": "FileNotFoundError",
     "evalue": "[Errno 2] No such file or directory: '/Users/alexandrasouly/code/muscaps/data/datasets/muscaps/audio/-0Gj8-vB1q4.wav'",
     "output_type": "error",
     "traceback": [
      "\u001b[0;31m---------------------------------------------------------------------------\u001b[0m",
      "\u001b[0;31mFileNotFoundError\u001b[0m                         Traceback (most recent call last)",
      "Cell \u001b[0;32mIn[6], line 1\u001b[0m\n\u001b[0;32m----> 1\u001b[0m ds[\u001b[39m'\u001b[39;49m\u001b[39maudio\u001b[39;49m\u001b[39m'\u001b[39;49m]\n",
      "File \u001b[0;32m~/miniconda3/envs/muscaps/lib/python3.8/site-packages/datasets/arrow_dataset.py:2658\u001b[0m, in \u001b[0;36mDataset.__getitem__\u001b[0;34m(self, key)\u001b[0m\n\u001b[1;32m   2656\u001b[0m \u001b[39mdef\u001b[39;00m \u001b[39m__getitem__\u001b[39m(\u001b[39mself\u001b[39m, key):  \u001b[39m# noqa: F811\u001b[39;00m\n\u001b[1;32m   2657\u001b[0m \u001b[39m    \u001b[39m\u001b[39m\"\"\"Can be used to index columns (by string names) or rows (by integer index or iterable of indices or bools).\"\"\"\u001b[39;00m\n\u001b[0;32m-> 2658\u001b[0m     \u001b[39mreturn\u001b[39;00m \u001b[39mself\u001b[39;49m\u001b[39m.\u001b[39;49m_getitem(key)\n",
      "File \u001b[0;32m~/miniconda3/envs/muscaps/lib/python3.8/site-packages/datasets/arrow_dataset.py:2643\u001b[0m, in \u001b[0;36mDataset._getitem\u001b[0;34m(self, key, **kwargs)\u001b[0m\n\u001b[1;32m   2641\u001b[0m formatter \u001b[39m=\u001b[39m get_formatter(format_type, features\u001b[39m=\u001b[39m\u001b[39mself\u001b[39m\u001b[39m.\u001b[39mfeatures, \u001b[39m*\u001b[39m\u001b[39m*\u001b[39mformat_kwargs)\n\u001b[1;32m   2642\u001b[0m pa_subtable \u001b[39m=\u001b[39m query_table(\u001b[39mself\u001b[39m\u001b[39m.\u001b[39m_data, key, indices\u001b[39m=\u001b[39m\u001b[39mself\u001b[39m\u001b[39m.\u001b[39m_indices \u001b[39mif\u001b[39;00m \u001b[39mself\u001b[39m\u001b[39m.\u001b[39m_indices \u001b[39mis\u001b[39;00m \u001b[39mnot\u001b[39;00m \u001b[39mNone\u001b[39;00m \u001b[39melse\u001b[39;00m \u001b[39mNone\u001b[39;00m)\n\u001b[0;32m-> 2643\u001b[0m formatted_output \u001b[39m=\u001b[39m format_table(\n\u001b[1;32m   2644\u001b[0m     pa_subtable, key, formatter\u001b[39m=\u001b[39;49mformatter, format_columns\u001b[39m=\u001b[39;49mformat_columns, output_all_columns\u001b[39m=\u001b[39;49moutput_all_columns\n\u001b[1;32m   2645\u001b[0m )\n\u001b[1;32m   2646\u001b[0m \u001b[39mreturn\u001b[39;00m formatted_output\n",
      "File \u001b[0;32m~/miniconda3/envs/muscaps/lib/python3.8/site-packages/datasets/formatting/formatting.py:634\u001b[0m, in \u001b[0;36mformat_table\u001b[0;34m(table, key, formatter, format_columns, output_all_columns)\u001b[0m\n\u001b[1;32m    632\u001b[0m python_formatter \u001b[39m=\u001b[39m PythonFormatter(features\u001b[39m=\u001b[39m\u001b[39mNone\u001b[39;00m)\n\u001b[1;32m    633\u001b[0m \u001b[39mif\u001b[39;00m format_columns \u001b[39mis\u001b[39;00m \u001b[39mNone\u001b[39;00m:\n\u001b[0;32m--> 634\u001b[0m     \u001b[39mreturn\u001b[39;00m formatter(pa_table, query_type\u001b[39m=\u001b[39;49mquery_type)\n\u001b[1;32m    635\u001b[0m \u001b[39melif\u001b[39;00m query_type \u001b[39m==\u001b[39m \u001b[39m\"\u001b[39m\u001b[39mcolumn\u001b[39m\u001b[39m\"\u001b[39m:\n\u001b[1;32m    636\u001b[0m     \u001b[39mif\u001b[39;00m key \u001b[39min\u001b[39;00m format_columns:\n",
      "File \u001b[0;32m~/miniconda3/envs/muscaps/lib/python3.8/site-packages/datasets/formatting/formatting.py:408\u001b[0m, in \u001b[0;36mFormatter.__call__\u001b[0;34m(self, pa_table, query_type)\u001b[0m\n\u001b[1;32m    406\u001b[0m     \u001b[39mreturn\u001b[39;00m \u001b[39mself\u001b[39m\u001b[39m.\u001b[39mformat_row(pa_table)\n\u001b[1;32m    407\u001b[0m \u001b[39melif\u001b[39;00m query_type \u001b[39m==\u001b[39m \u001b[39m\"\u001b[39m\u001b[39mcolumn\u001b[39m\u001b[39m\"\u001b[39m:\n\u001b[0;32m--> 408\u001b[0m     \u001b[39mreturn\u001b[39;00m \u001b[39mself\u001b[39;49m\u001b[39m.\u001b[39;49mformat_column(pa_table)\n\u001b[1;32m    409\u001b[0m \u001b[39melif\u001b[39;00m query_type \u001b[39m==\u001b[39m \u001b[39m\"\u001b[39m\u001b[39mbatch\u001b[39m\u001b[39m\"\u001b[39m:\n\u001b[1;32m    410\u001b[0m     \u001b[39mreturn\u001b[39;00m \u001b[39mself\u001b[39m\u001b[39m.\u001b[39mformat_batch(pa_table)\n",
      "File \u001b[0;32m~/miniconda3/envs/muscaps/lib/python3.8/site-packages/datasets/formatting/formatting.py:447\u001b[0m, in \u001b[0;36mPythonFormatter.format_column\u001b[0;34m(self, pa_table)\u001b[0m\n\u001b[1;32m    445\u001b[0m \u001b[39mdef\u001b[39;00m \u001b[39mformat_column\u001b[39m(\u001b[39mself\u001b[39m, pa_table: pa\u001b[39m.\u001b[39mTable) \u001b[39m-\u001b[39m\u001b[39m>\u001b[39m \u001b[39mlist\u001b[39m:\n\u001b[1;32m    446\u001b[0m     column \u001b[39m=\u001b[39m \u001b[39mself\u001b[39m\u001b[39m.\u001b[39mpython_arrow_extractor()\u001b[39m.\u001b[39mextract_column(pa_table)\n\u001b[0;32m--> 447\u001b[0m     column \u001b[39m=\u001b[39m \u001b[39mself\u001b[39;49m\u001b[39m.\u001b[39;49mpython_features_decoder\u001b[39m.\u001b[39;49mdecode_column(column, pa_table\u001b[39m.\u001b[39;49mcolumn_names[\u001b[39m0\u001b[39;49m])\n\u001b[1;32m    448\u001b[0m     \u001b[39mreturn\u001b[39;00m column\n",
      "File \u001b[0;32m~/miniconda3/envs/muscaps/lib/python3.8/site-packages/datasets/formatting/formatting.py:228\u001b[0m, in \u001b[0;36mPythonFeaturesDecoder.decode_column\u001b[0;34m(self, column, column_name)\u001b[0m\n\u001b[1;32m    227\u001b[0m \u001b[39mdef\u001b[39;00m \u001b[39mdecode_column\u001b[39m(\u001b[39mself\u001b[39m, column: \u001b[39mlist\u001b[39m, column_name: \u001b[39mstr\u001b[39m) \u001b[39m-\u001b[39m\u001b[39m>\u001b[39m \u001b[39mlist\u001b[39m:\n\u001b[0;32m--> 228\u001b[0m     \u001b[39mreturn\u001b[39;00m \u001b[39mself\u001b[39;49m\u001b[39m.\u001b[39;49mfeatures\u001b[39m.\u001b[39;49mdecode_column(column, column_name) \u001b[39mif\u001b[39;00m \u001b[39mself\u001b[39m\u001b[39m.\u001b[39mfeatures \u001b[39melse\u001b[39;00m column\n",
      "File \u001b[0;32m~/miniconda3/envs/muscaps/lib/python3.8/site-packages/datasets/features/features.py:1866\u001b[0m, in \u001b[0;36mFeatures.decode_column\u001b[0;34m(self, column, column_name)\u001b[0m\n\u001b[1;32m   1853\u001b[0m \u001b[39mdef\u001b[39;00m \u001b[39mdecode_column\u001b[39m(\u001b[39mself\u001b[39m, column: \u001b[39mlist\u001b[39m, column_name: \u001b[39mstr\u001b[39m):\n\u001b[1;32m   1854\u001b[0m \u001b[39m    \u001b[39m\u001b[39m\"\"\"Decode column with custom feature decoding.\u001b[39;00m\n\u001b[1;32m   1855\u001b[0m \n\u001b[1;32m   1856\u001b[0m \u001b[39m    Args:\u001b[39;00m\n\u001b[0;32m   (...)\u001b[0m\n\u001b[1;32m   1863\u001b[0m \u001b[39m        `list[Any]`\u001b[39;00m\n\u001b[1;32m   1864\u001b[0m \u001b[39m    \"\"\"\u001b[39;00m\n\u001b[1;32m   1865\u001b[0m     \u001b[39mreturn\u001b[39;00m (\n\u001b[0;32m-> 1866\u001b[0m         [decode_nested_example(\u001b[39mself\u001b[39m[column_name], value) \u001b[39mif\u001b[39;00m value \u001b[39mis\u001b[39;00m \u001b[39mnot\u001b[39;00m \u001b[39mNone\u001b[39;00m \u001b[39melse\u001b[39;00m \u001b[39mNone\u001b[39;00m \u001b[39mfor\u001b[39;00m value \u001b[39min\u001b[39;00m column]\n\u001b[1;32m   1867\u001b[0m         \u001b[39mif\u001b[39;00m \u001b[39mself\u001b[39m\u001b[39m.\u001b[39m_column_requires_decoding[column_name]\n\u001b[1;32m   1868\u001b[0m         \u001b[39melse\u001b[39;00m column\n\u001b[1;32m   1869\u001b[0m     )\n",
      "File \u001b[0;32m~/miniconda3/envs/muscaps/lib/python3.8/site-packages/datasets/features/features.py:1866\u001b[0m, in \u001b[0;36m<listcomp>\u001b[0;34m(.0)\u001b[0m\n\u001b[1;32m   1853\u001b[0m \u001b[39mdef\u001b[39;00m \u001b[39mdecode_column\u001b[39m(\u001b[39mself\u001b[39m, column: \u001b[39mlist\u001b[39m, column_name: \u001b[39mstr\u001b[39m):\n\u001b[1;32m   1854\u001b[0m \u001b[39m    \u001b[39m\u001b[39m\"\"\"Decode column with custom feature decoding.\u001b[39;00m\n\u001b[1;32m   1855\u001b[0m \n\u001b[1;32m   1856\u001b[0m \u001b[39m    Args:\u001b[39;00m\n\u001b[0;32m   (...)\u001b[0m\n\u001b[1;32m   1863\u001b[0m \u001b[39m        `list[Any]`\u001b[39;00m\n\u001b[1;32m   1864\u001b[0m \u001b[39m    \"\"\"\u001b[39;00m\n\u001b[1;32m   1865\u001b[0m     \u001b[39mreturn\u001b[39;00m (\n\u001b[0;32m-> 1866\u001b[0m         [decode_nested_example(\u001b[39mself\u001b[39;49m[column_name], value) \u001b[39mif\u001b[39;00m value \u001b[39mis\u001b[39;00m \u001b[39mnot\u001b[39;00m \u001b[39mNone\u001b[39;00m \u001b[39melse\u001b[39;00m \u001b[39mNone\u001b[39;00m \u001b[39mfor\u001b[39;00m value \u001b[39min\u001b[39;00m column]\n\u001b[1;32m   1867\u001b[0m         \u001b[39mif\u001b[39;00m \u001b[39mself\u001b[39m\u001b[39m.\u001b[39m_column_requires_decoding[column_name]\n\u001b[1;32m   1868\u001b[0m         \u001b[39melse\u001b[39;00m column\n\u001b[1;32m   1869\u001b[0m     )\n",
      "File \u001b[0;32m~/miniconda3/envs/muscaps/lib/python3.8/site-packages/datasets/features/features.py:1308\u001b[0m, in \u001b[0;36mdecode_nested_example\u001b[0;34m(schema, obj, token_per_repo_id)\u001b[0m\n\u001b[1;32m   1305\u001b[0m \u001b[39melif\u001b[39;00m \u001b[39misinstance\u001b[39m(schema, (Audio, Image)):\n\u001b[1;32m   1306\u001b[0m     \u001b[39m# we pass the token to read and decode files from private repositories in streaming mode\u001b[39;00m\n\u001b[1;32m   1307\u001b[0m     \u001b[39mif\u001b[39;00m obj \u001b[39mis\u001b[39;00m \u001b[39mnot\u001b[39;00m \u001b[39mNone\u001b[39;00m \u001b[39mand\u001b[39;00m schema\u001b[39m.\u001b[39mdecode:\n\u001b[0;32m-> 1308\u001b[0m         \u001b[39mreturn\u001b[39;00m schema\u001b[39m.\u001b[39;49mdecode_example(obj, token_per_repo_id\u001b[39m=\u001b[39;49mtoken_per_repo_id)\n\u001b[1;32m   1309\u001b[0m \u001b[39mreturn\u001b[39;00m obj\n",
      "File \u001b[0;32m~/miniconda3/envs/muscaps/lib/python3.8/site-packages/datasets/features/audio.py:166\u001b[0m, in \u001b[0;36mAudio.decode_example\u001b[0;34m(self, value, token_per_repo_id)\u001b[0m\n\u001b[1;32m    164\u001b[0m         array, sampling_rate \u001b[39m=\u001b[39m \u001b[39mself\u001b[39m\u001b[39m.\u001b[39m_decode_non_mp3_file_like(file)\n\u001b[1;32m    165\u001b[0m     \u001b[39melse\u001b[39;00m:\n\u001b[0;32m--> 166\u001b[0m         array, sampling_rate \u001b[39m=\u001b[39m \u001b[39mself\u001b[39;49m\u001b[39m.\u001b[39;49m_decode_non_mp3_path_like(path, token_per_repo_id\u001b[39m=\u001b[39;49mtoken_per_repo_id)\n\u001b[1;32m    167\u001b[0m \u001b[39mreturn\u001b[39;00m {\u001b[39m\"\u001b[39m\u001b[39mpath\u001b[39m\u001b[39m\"\u001b[39m: path, \u001b[39m\"\u001b[39m\u001b[39marray\u001b[39m\u001b[39m\"\u001b[39m: array, \u001b[39m\"\u001b[39m\u001b[39msampling_rate\u001b[39m\u001b[39m\"\u001b[39m: sampling_rate}\n",
      "File \u001b[0;32m~/miniconda3/envs/muscaps/lib/python3.8/site-packages/datasets/features/audio.py:270\u001b[0m, in \u001b[0;36mAudio._decode_non_mp3_path_like\u001b[0;34m(self, path, format, token_per_repo_id)\u001b[0m\n\u001b[1;32m    267\u001b[0m \u001b[39mexcept\u001b[39;00m (\u001b[39mValueError\u001b[39;00m, \u001b[39mKeyError\u001b[39;00m):\n\u001b[1;32m    268\u001b[0m     use_auth_token \u001b[39m=\u001b[39m \u001b[39mNone\u001b[39;00m\n\u001b[0;32m--> 270\u001b[0m \u001b[39mwith\u001b[39;00m xopen(path, \u001b[39m\"\u001b[39;49m\u001b[39mrb\u001b[39;49m\u001b[39m\"\u001b[39;49m, use_auth_token\u001b[39m=\u001b[39;49muse_auth_token) \u001b[39mas\u001b[39;00m f:\n\u001b[1;32m    271\u001b[0m     array, sampling_rate \u001b[39m=\u001b[39m librosa\u001b[39m.\u001b[39mload(f, sr\u001b[39m=\u001b[39m\u001b[39mself\u001b[39m\u001b[39m.\u001b[39msampling_rate, mono\u001b[39m=\u001b[39m\u001b[39mself\u001b[39m\u001b[39m.\u001b[39mmono)\n\u001b[1;32m    272\u001b[0m \u001b[39mreturn\u001b[39;00m array, sampling_rate\n",
      "File \u001b[0;32m~/miniconda3/envs/muscaps/lib/python3.8/site-packages/datasets/download/streaming_download_manager.py:482\u001b[0m, in \u001b[0;36mxopen\u001b[0;34m(file, mode, use_auth_token, *args, **kwargs)\u001b[0m\n\u001b[1;32m    480\u001b[0m main_hop, \u001b[39m*\u001b[39mrest_hops \u001b[39m=\u001b[39m file_str\u001b[39m.\u001b[39msplit(\u001b[39m\"\u001b[39m\u001b[39m::\u001b[39m\u001b[39m\"\u001b[39m)\n\u001b[1;32m    481\u001b[0m \u001b[39mif\u001b[39;00m is_local_path(main_hop):\n\u001b[0;32m--> 482\u001b[0m     \u001b[39mreturn\u001b[39;00m \u001b[39mopen\u001b[39;49m(main_hop, mode, \u001b[39m*\u001b[39;49margs, \u001b[39m*\u001b[39;49m\u001b[39m*\u001b[39;49mkwargs)\n\u001b[1;32m    483\u001b[0m \u001b[39m# add headers and cookies for authentication on the HF Hub and for Google Drive\u001b[39;00m\n\u001b[1;32m    484\u001b[0m \u001b[39mif\u001b[39;00m \u001b[39mnot\u001b[39;00m rest_hops \u001b[39mand\u001b[39;00m (main_hop\u001b[39m.\u001b[39mstartswith(\u001b[39m\"\u001b[39m\u001b[39mhttp://\u001b[39m\u001b[39m\"\u001b[39m) \u001b[39mor\u001b[39;00m main_hop\u001b[39m.\u001b[39mstartswith(\u001b[39m\"\u001b[39m\u001b[39mhttps://\u001b[39m\u001b[39m\"\u001b[39m)):\n",
      "\u001b[0;31mFileNotFoundError\u001b[0m: [Errno 2] No such file or directory: '/Users/alexandrasouly/code/muscaps/data/datasets/muscaps/audio/-0Gj8-vB1q4.wav'"
     ]
    }
   ],
   "source": [
    "ds['audio']"
   ]
  },
  {
   "cell_type": "code",
   "execution_count": 11,
   "metadata": {},
   "outputs": [],
   "source": [
    "with open('/Users/alexandrasouly/code/muscaps/data/datasets/muscaps/muscaps_filtered.json', 'r') as f:\n",
    "  data = json.load(f)\n",
    "train = data[:4000]\n",
    "val = data[4000:4500]\n",
    "test = data[4500:]\n",
    "\n",
    "with open('/Users/alexandrasouly/code/muscaps/data/datasets/muscaps/dataset_train.json', 'w') as f:\n",
    "  json.dump(train, f)\n",
    "with open('/Users/alexandrasouly/code/muscaps/data/datasets/muscaps/dataset_val.json', 'w') as f:\n",
    "  json.dump(val, f)\n",
    "with open('/Users/alexandrasouly/code/muscaps/data/datasets/muscaps/dataset_test.json', 'w') as f:\n",
    "  json.dump(test, f)"
   ]
  },
  {
   "cell_type": "code",
   "execution_count": 19,
   "metadata": {},
   "outputs": [],
   "source": [
    "import os\n",
    "with open('/Users/alexandrasouly/code/muscaps/data/datasets/muscaps/muscaps.json', 'r') as f:\n",
    "  data = json.load(f)\n",
    "audio_dir = \"data/datasets/muscaps/audio\"\n",
    "to_keep = []\n",
    "for song in data:\n",
    "    title = song['track_id']\n",
    "    if title+'.npy' in os.listdir(audio_dir):\n",
    "      to_keep.append(song)\n"
   ]
  },
  {
   "cell_type": "code",
   "execution_count": 21,
   "metadata": {},
   "outputs": [],
   "source": [
    "with open('/Users/alexandrasouly/code/muscaps/data/datasets/muscaps/muscaps_filtered.json', 'w') as f:\n",
    "  json.dump(to_keep, f)"
   ]
  }
 ],
 "metadata": {
  "kernelspec": {
   "display_name": "muscaps",
   "language": "python",
   "name": "python3"
  },
  "language_info": {
   "codemirror_mode": {
    "name": "ipython",
    "version": 3
   },
   "file_extension": ".py",
   "mimetype": "text/x-python",
   "name": "python",
   "nbconvert_exporter": "python",
   "pygments_lexer": "ipython3",
   "version": "3.8.16"
  },
  "orig_nbformat": 4,
  "vscode": {
   "interpreter": {
    "hash": "30b208a31127b108f37d321edc2f7b60905b6a86e7717c8ca5f92080f0d4ee91"
   }
  }
 },
 "nbformat": 4,
 "nbformat_minor": 2
}
