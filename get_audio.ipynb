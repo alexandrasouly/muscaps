{
 "cells": [
  {
   "cell_type": "markdown",
   "metadata": {},
   "source": [
    "### Download the musiccaps dataset"
   ]
  },
  {
   "cell_type": "code",
   "execution_count": null,
   "metadata": {
    "tags": []
   },
   "outputs": [],
   "source": [
    "!pip3 install librosa\n",
    "!pip3 install yt-dlp"
   ]
  },
  {
   "cell_type": "code",
   "execution_count": null,
   "metadata": {},
   "outputs": [],
   "source": [
    "# Download doesn't work if we have caches for some reason\n",
    "! rm -rf .cache/huggingface"
   ]
  },
  {
   "cell_type": "code",
   "execution_count": null,
   "metadata": {
    "tags": []
   },
   "outputs": [],
   "source": [
    "# Download the .wav files\n",
    "\n",
    "from musiccaps import load_musiccaps\n",
    "import numpy as np\n",
    "import torch\n",
    "import re\n",
    "import json\n",
    "\n",
    "ds = load_musiccaps(\n",
    "    './data/datasets/muscaps/audio',\n",
    "    sampling_rate=16000,\n",
    "    limit=None,\n",
    "    num_proc=8,\n",
    "    writer_batch_size=1000,\n",
    "    return_without_audio=False\n",
    ")\n"
   ]
  },
  {
   "cell_type": "code",
   "execution_count": null,
   "metadata": {
    "tags": []
   },
   "outputs": [],
   "source": [
    "# Convert .wav to .npy\n",
    "\n",
    "import os\n",
    "import librosa\n",
    "import numpy as np\n",
    "\n",
    "audio_dir = \"data/datasets/muscaps/audio\"\n",
    "for audio_file in os.listdir(audio_dir):\n",
    "    audio_path = os.path.join(audio_dir, audio_file)\n",
    "    audio, sr = librosa.load(audio_path, 16000)\n",
    "    array_path = audio_path.replace(\"wav\", \"npy\")\n",
    "    np.save(open(array_path, 'wb'), audio)"
   ]
  },
  {
   "cell_type": "code",
   "execution_count": null,
   "metadata": {},
   "outputs": [],
   "source": [
    "# Get rid of those captions we couldn't get the audio file for\n",
    "import os\n",
    "with open('/Users/alexandrasouly/code/muscaps/data/datasets/muscaps/muscaps.json', 'r') as f:\n",
    "  data = json.load(f)\n",
    "audio_dir = \"data/datasets/muscaps/audio\"\n",
    "to_keep = []\n",
    "for song in data:\n",
    "    title = song['track_id']\n",
    "    if title+'.npy' in os.listdir(audio_dir):\n",
    "      to_keep.append(song)\n",
    "    \n",
    "with open('/Users/alexandrasouly/code/muscaps/data/datasets/muscaps/muscaps_filtered.json', 'w') as f:\n",
    "  json.dump(to_keep, f)\n"
   ]
  }
 ],
 "metadata": {
  "kernelspec": {
   "display_name": "Python 3 (ipykernel)",
   "language": "python",
   "name": "python3"
  },
  "language_info": {
   "codemirror_mode": {
    "name": "ipython",
    "version": 3
   },
   "file_extension": ".py",
   "mimetype": "text/x-python",
   "name": "python",
   "nbconvert_exporter": "python",
   "pygments_lexer": "ipython3",
   "version": "3.9.16"
  },
  "vscode": {
   "interpreter": {
    "hash": "30b208a31127b108f37d321edc2f7b60905b6a86e7717c8ca5f92080f0d4ee91"
   }
  }
 },
 "nbformat": 4,
 "nbformat_minor": 4
}
