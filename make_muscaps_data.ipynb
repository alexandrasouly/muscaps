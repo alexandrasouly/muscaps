{
 "cells": [
  {
   "cell_type": "code",
   "execution_count": 1,
   "metadata": {},
   "outputs": [
    {
     "name": "stderr",
     "output_type": "stream",
     "text": [
      "/Users/alexandrasouly/miniconda3/envs/muscaps/lib/python3.8/site-packages/tqdm/auto.py:21: TqdmWarning: IProgress not found. Please update jupyter and ipywidgets. See https://ipywidgets.readthedocs.io/en/stable/user_install.html\n",
      "  from .autonotebook import tqdm as notebook_tqdm\n"
     ]
    }
   ],
   "source": [
    "from musiccaps import load_musiccaps\n",
    "import numpy as np\n",
    "import torch\n",
    "import re\n",
    "import json\n",
    "\n",
    "\n",
    "device = torch.device(\"cuda\" if torch.cuda.is_available() else \"cpu\")"
   ]
  },
  {
   "cell_type": "code",
   "execution_count": 2,
   "metadata": {},
   "outputs": [
    {
     "name": "stderr",
     "output_type": "stream",
     "text": [
      "Found cached dataset csv (/Users/alexandrasouly/.cache/huggingface/datasets/google___csv/google--MusicCaps-bedc2a0fd7888f2f/0.0.0/6b34fb8fcf56f7c8ba51dc895bfa2bfbe43546f190a60fcf74bb5e8afdcc2317)\n"
     ]
    }
   ],
   "source": [
    "ds = load_musiccaps(\n",
    "    './music_data',\n",
    "    sampling_rate=16000,\n",
    "    limit=None,\n",
    "    num_proc=8,\n",
    "    writer_batch_size=1000,\n",
    "    return_without_audio=True\n",
    ")"
   ]
  },
  {
   "cell_type": "code",
   "execution_count": 4,
   "metadata": {},
   "outputs": [
    {
     "name": "stdout",
     "output_type": "stream",
     "text": [
      "5485\n"
     ]
    }
   ],
   "source": [
    "# Filter out those not downloaded\n",
    "import os\n",
    "filtered_ds = []\n",
    "for song in ds:\n",
    "    ytid = song['ytid'] + '.npy'\n",
    "    if ytid in os.listdir('data/datasets/muscaps/audio'):\n",
    "        filtered_ds.append(song)\n",
    "print(len(filtered_ds))"
   ]
  },
  {
   "cell_type": "code",
   "execution_count": 6,
   "metadata": {},
   "outputs": [],
   "source": [
    "# Create json file\n",
    "json_dict_list = []\n",
    "for song in filtered_ds:\n",
    "    token = re.sub(r'[^\\w\\s]','',song['caption']).lower().split(' ')\n",
    "    json_dict = {}\n",
    "    json_dict['track_id'] = song['ytid']\n",
    "    json_dict['caption'] = {}\n",
    "    json_dict['caption']['tokens'] = token\n",
    "    json_dict['caption']['raw'] = song['caption']\n",
    "    json_dict_list.append(json_dict)\n",
    "\n",
    "with open(\"data/datasets/muscaps/muscaps_data.json\", \"w\") as final:\n",
    "   json.dump(json_dict_list, final)"
   ]
  },
  {
   "cell_type": "code",
   "execution_count": 7,
   "metadata": {},
   "outputs": [],
   "source": [
    "# Make the train valid test split\n",
    "\n",
    "with open('data/datasets/muscaps/split.json') as f:\n",
    "    split_ds = json.load(f)\n",
    "with open('data/datasets/muscaps/muscaps_data.json') as f:\n",
    "    muscaps_ds = json.load(f)\n",
    "\n",
    "train = []\n",
    "valid = []\n",
    "test = []\n",
    "for song in muscaps_ds:\n",
    "    if song['track_id'] in split_ds['train']:\n",
    "        train.append(song)\n",
    "    elif song['track_id'] in split_ds['valid']:\n",
    "        valid.append(song)\n",
    "    elif song['track_id'] in split_ds['test']:\n",
    "        test.append(song)\n",
    "    else:\n",
    "        print( song['track_id'] )\n",
    "with open('data/datasets/muscaps/dataset_train.json', 'w') as f:\n",
    "    json.dump(train, f)\n",
    "with open('data/datasets/muscaps/dataset_val.json', 'w') as f:\n",
    "    json.dump(valid, f)\n",
    "with open('data/datasets/muscaps/dataset_test.json', 'w') as f:\n",
    "    json.dump(test, f)\n"
   ]
  },
  {
   "cell_type": "code",
   "execution_count": 8,
   "metadata": {},
   "outputs": [
    {
     "name": "stdout",
     "output_type": "stream",
     "text": [
      "136\n",
      "{'track_id': 'Yt1czlnCUCg', 'caption': {'tokens': ['this', 'childrens', 'song', 'features', 'a', 'male', 'voice', 'singing', 'the', 'main', 'melody', 'this', 'is', 'accompanied', 'by', 'male', 'and', 'female', 'voices', 'singing', 'backing', 'vocals', 'in', 'harmony', 'this', 'has', 'a', 'call', 'and', 'response', 'technique', 'where', 'the', 'main', 'voice', 'sings', 'a', 'line', 'followed', 'by', 'the', 'response', 'by', 'the', 'choir', 'this', 'is', 'accompanied', 'by', 'percussion', 'playing', 'a', 'simple', 'beat', 'after', 'two', 'bars', 'the', 'instruments', 'pause', 'the', 'bass', 'plays', 'the', 'root', 'notes', 'of', 'the', 'chords', 'and', 'sliding', 'to', 'a', 'pause', 'at', 'the', 'end', 'of', 'the', 'bar', 'during', 'the', 'pause', 'the', 'voices', 'continue', 'to', 'sing', 'the', 'main', 'voice', 'sings', 'two', 'lines', 'and', 'the', 'choir', 'sings', 'the', 'third', 'line', 'with', 'the', 'main', 'voice', 'in', 'harmony', 'the', 'mood', 'of', 'this', 'song', 'is', 'happy', 'after', 'the', 'pause', 'the', 'singers', 'return', 'to', 'singing', 'the', 'same', 'melody', 'this', 'song', 'can', 'be', 'played', 'in', 'an', 'educational', 'movie', 'for', 'children'], 'raw': \"This children's song features a male voice singing the main melody. This is accompanied by male and female voices singing backing vocals in harmony. This has a call and response technique where the main voice sings a line followed by the response by the choir. This is accompanied by percussion playing a simple beat. After two bars, the instruments pause. The bass plays the root notes of the chords and sliding to a pause at the end of the bar. During the pause, the voices continue to sing. The main voice sings two lines and the choir sings the third line with the main voice in harmony. The mood of this song is happy. After the pause, the singers return to singing the same melody. This song can be played in an educational movie for children.\"}}\n"
     ]
    },
    {
     "data": {
      "text/plain": [
       "(array([  2.,   1.,   0.,   1.,   1.,   2.,   4.,   5.,  10.,  18.,  21.,\n",
       "         17.,  57.,  22.,  37.,  78.,  50.,  66., 140.,  78.,  75., 177.,\n",
       "         95., 109., 238., 160., 161., 283., 148., 166., 261., 135., 145.,\n",
       "        253., 143., 108., 213.,  96., 109., 181.,  96.,  78., 142.,  83.,\n",
       "         84., 128.,  69.,  53., 118.,  56.,  48.,  84.,  51.,  45.,  76.,\n",
       "         35.,  31.,  61.,  32.,  25.,  35.,  17.,  13.,  24.,  15.,  10.,\n",
       "         17.,  15.,   9.,  13.,   9.,   3.,   7.,   7.,   2.,   7.,   2.,\n",
       "          2.,   4.,   3.,   0.,   4.,   0.,   0.,   2.,   1.,   0.,   0.,\n",
       "          1.,   0.,   0.,   0.,   0.,   0.,   0.,   0.,   0.,   1.,   0.,\n",
       "          1.]),\n",
       " array([  3.  ,   4.33,   5.66,   6.99,   8.32,   9.65,  10.98,  12.31,\n",
       "         13.64,  14.97,  16.3 ,  17.63,  18.96,  20.29,  21.62,  22.95,\n",
       "         24.28,  25.61,  26.94,  28.27,  29.6 ,  30.93,  32.26,  33.59,\n",
       "         34.92,  36.25,  37.58,  38.91,  40.24,  41.57,  42.9 ,  44.23,\n",
       "         45.56,  46.89,  48.22,  49.55,  50.88,  52.21,  53.54,  54.87,\n",
       "         56.2 ,  57.53,  58.86,  60.19,  61.52,  62.85,  64.18,  65.51,\n",
       "         66.84,  68.17,  69.5 ,  70.83,  72.16,  73.49,  74.82,  76.15,\n",
       "         77.48,  78.81,  80.14,  81.47,  82.8 ,  84.13,  85.46,  86.79,\n",
       "         88.12,  89.45,  90.78,  92.11,  93.44,  94.77,  96.1 ,  97.43,\n",
       "         98.76, 100.09, 101.42, 102.75, 104.08, 105.41, 106.74, 108.07,\n",
       "        109.4 , 110.73, 112.06, 113.39, 114.72, 116.05, 117.38, 118.71,\n",
       "        120.04, 121.37, 122.7 , 124.03, 125.36, 126.69, 128.02, 129.35,\n",
       "        130.68, 132.01, 133.34, 134.67, 136.  ]),\n",
       " <BarContainer object of 100 artists>)"
      ]
     },
     "execution_count": 8,
     "metadata": {},
     "output_type": "execute_result"
    },
    {
     "data": {
      "image/png": "[encoded data removed]",
      "text/plain": [
       "<Figure size 640x480 with 1 Axes>"
      ]
     },
     "metadata": {},
     "output_type": "display_data"
    }
   ],
   "source": [
    "# Max length of \n",
    "max_len = 0\n",
    "\n",
    "for song in muscaps_ds:\n",
    "    song_len = len(song['caption']['tokens'])\n",
    "    if song_len > max_len:\n",
    "        max_len = song_len\n",
    "        max_song = song\n",
    "print(max_len)\n",
    "print(max_song)\n",
    "\n",
    "from collections import Counter\n",
    "import matplotlib.pyplot as plt\n",
    "song_lens = [len(song['caption']['tokens']) for song in muscaps_ds]\n",
    "counts = Counter(song_lens)\n",
    "plt.hist(song_lens, bins=100)"
   ]
  }
 ],
 "metadata": {
  "kernelspec": {
   "display_name": "muscaps",
   "language": "python",
   "name": "python3"
  },
  "language_info": {
   "codemirror_mode": {
    "name": "ipython",
    "version": 3
   },
   "file_extension": ".py",
   "mimetype": "text/x-python",
   "name": "python",
   "nbconvert_exporter": "python",
   "pygments_lexer": "ipython3",
   "version": "3.8.16"
  },
  "orig_nbformat": 4,
  "vscode": {
   "interpreter": {
    "hash": "30b208a31127b108f37d321edc2f7b60905b6a86e7717c8ca5f92080f0d4ee91"
   }
  }
 },
 "nbformat": 4,
 "nbformat_minor": 2
}
