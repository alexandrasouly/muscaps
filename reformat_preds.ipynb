{
 "cells": [
  {
   "cell_type": "markdown",
   "id": "ef090bd9-65d8-43bb-ba77-3210505cba18",
   "metadata": {},
   "source": [
    "### Reformat predictions in common format\n",
    "This takes muscaps predictions and turns them into the common format for our evaluation code.\n",
    "This includes making predictions lowercase and removing punctuation."
   ]
  },
  {
   "cell_type": "code",
   "execution_count": 8,
   "id": "41d60ec2-b107-434d-84af-90e08fdc75f6",
   "metadata": {},
   "outputs": [],
   "source": [
    "import json\n",
    "import re"
   ]
  },
  {
   "cell_type": "code",
   "execution_count": 15,
   "id": "3d701bce-7972-4dcf-8b4c-57bab52e1a97",
   "metadata": {},
   "outputs": [],
   "source": [
    "# attention\n",
    "pred_path = './save/experiments/2023-03-12-15_55_33/predictions_beam_4.json'\n",
    "pred_file_name = 'lstm_attn_no_tag_no_aug'"
   ]
  },
  {
   "cell_type": "code",
   "execution_count": 17,
   "id": "265a0bbc-0e4b-4bc3-975c-8bcb2218c9f6",
   "metadata": {},
   "outputs": [],
   "source": [
    "# no attention\n",
    "pred_path = './save/experiments/2023-03-12-23_20_18/predictions_beam_4.json'\n",
    "pred_file_name = 'lstm_no_attn_no_tag_no_aug'"
   ]
  },
  {
   "cell_type": "code",
   "execution_count": 18,
   "id": "8c14d3e5-62ee-44d2-b57a-c9246cde7a72",
   "metadata": {},
   "outputs": [],
   "source": [
    "test_set_path = 'data/datasets/muscaps/dataset_test.json'\n",
    "with open(pred_path) as f:\n",
    "    loaded_preds = json.load(f)\n",
    "with open(test_set_path) as f:\n",
    "    test_set = json.load(f)\n",
    "    \n",
    "preds_dict = {\"eval_true_captions\": [], \"eval_pred_captions\": [], \"track_ids\": [] }\n",
    "\n",
    "for pred in loaded_preds['predictions']:\n",
    "    pred = pred.strip('<sos>').strip('<eos>')\n",
    "    preds_dict['eval_pred_captions'].append(pred)\n",
    "    \n",
    "for track_id in loaded_preds['audio_paths']:\n",
    "    track_id = track_id.split('/')[-1].split('.')[0]\n",
    "    preds_dict['track_ids'].append(track_id)\n",
    "    for song in test_set:\n",
    "        if song['track_id'] == track_id:\n",
    "            true_cap = song['caption']['raw']\n",
    "            true_cap =re.sub(r'[^\\w\\s]','',true_cap).lower()\n",
    "            preds_dict['eval_true_captions'].append(true_cap)\n",
    "            \n",
    "with open(pred_file_name+'.json', 'w') as f:\n",
    "    json.dump(preds_dict, f)\n",
    "            \n",
    "    \n"
   ]
  },
  {
   "cell_type": "code",
   "execution_count": null,
   "id": "71720db7-1f38-454d-8d8f-5624ccfb5930",
   "metadata": {},
   "outputs": [],
   "source": []
  }
 ],
 "metadata": {
  "kernelspec": {
   "display_name": "Python 3 (ipykernel)",
   "language": "python",
   "name": "python3"
  },
  "language_info": {
   "codemirror_mode": {
    "name": "ipython",
    "version": 3
   },
   "file_extension": ".py",
   "mimetype": "text/x-python",
   "name": "python",
   "nbconvert_exporter": "python",
   "pygments_lexer": "ipython3",
   "version": "3.9.16"
  }
 },
 "nbformat": 4,
 "nbformat_minor": 5
}
